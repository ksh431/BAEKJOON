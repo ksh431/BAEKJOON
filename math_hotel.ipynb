{
 "cells": [
  {
   "cell_type": "code",
   "execution_count": 3,
   "metadata": {},
   "outputs": [
    {
     "name": "stdout",
     "output_type": "stream",
     "text": [
      "테스트 개수 : 2\n",
      "높이, 각 층 방 수, 손님의 순번 : 6 12 10\n",
      "높이, 각 층 방 수, 손님의 순번 : 30 50 72\n",
      "402\n",
      "1203\n"
     ]
    },
    {
     "data": {
      "text/plain": [
       "0"
      ]
     },
     "execution_count": 3,
     "metadata": {},
     "output_type": "execute_result"
    }
   ],
   "source": [
    "def hotel():\n",
    "    T = int(input('테스트 개수 : '))\n",
    "    lst = []\n",
    "    for i in range(T):\n",
    "        H, W, N = map(int, input('높이, 각 층 방 수, 손님의 순번 : ').split())\n",
    "        num = int(N/H) + 1\n",
    "        floor = (N%H)\n",
    "        room = floor*100 + num\n",
    "        lst.append(room)\n",
    "    for i in lst:\n",
    "        print(i)\n",
    "    return 0\n",
    "\n",
    "hotel()"
   ]
  }
 ],
 "metadata": {
  "kernelspec": {
   "display_name": "Python 3",
   "language": "python",
   "name": "python3"
  },
  "language_info": {
   "codemirror_mode": {
    "name": "ipython",
    "version": 3
   },
   "file_extension": ".py",
   "mimetype": "text/x-python",
   "name": "python",
   "nbconvert_exporter": "python",
   "pygments_lexer": "ipython3",
   "version": "3.7.4"
  }
 },
 "nbformat": 4,
 "nbformat_minor": 2
}
