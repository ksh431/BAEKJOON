{
 "cells": [
  {
   "cell_type": "code",
   "execution_count": null,
   "metadata": {},
   "outputs": [],
   "source": [
    "import collections\n",
    "\n",
    "N, M = map(int, input().split())\n",
    "target_list = list(map(int, input().split()))\n",
    "que = collections.deque([i+1 for i in range(N)])\n",
    "result = 0\n",
    "\n",
    "for num in target_list:\n",
    "    if num == que[0]:\n",
    "        que.popleft()\n",
    "        continue\n",
    "    left_move = que.index(num)\n",
    "    right_move = len(que) - left_move\n",
    "    \n",
    "    if left_move <= right_move:\n",
    "        que.rotate(-left_move)\n",
    "        que.popleft()\n",
    "        result += left_move\n",
    "    else:\n",
    "        que.rotate(right_move)\n",
    "        que.popleft() \n",
    "        result += right_move\n",
    "        \n",
    "print(result)"
   ]
  }
 ],
 "metadata": {
  "kernelspec": {
   "display_name": "Python 3",
   "language": "python",
   "name": "python3"
  },
  "language_info": {
   "codemirror_mode": {
    "name": "ipython",
    "version": 3
   },
   "file_extension": ".py",
   "mimetype": "text/x-python",
   "name": "python",
   "nbconvert_exporter": "python",
   "pygments_lexer": "ipython3",
   "version": "3.7.4"
  }
 },
 "nbformat": 4,
 "nbformat_minor": 2
}
