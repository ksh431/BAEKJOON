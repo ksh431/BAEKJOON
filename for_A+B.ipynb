{
 "cells": [
  {
   "cell_type": "code",
   "execution_count": 1,
   "metadata": {},
   "outputs": [
    {
     "name": "stdout",
     "output_type": "stream",
     "text": [
      "테스트 케이스 개수를 입력하시오 : 5\n",
      "두 숫자를 입력해 주세요 : 1 1\n",
      "2\n",
      "두 숫자를 입력해 주세요 : 2 3\n",
      "5\n",
      "두 숫자를 입력해 주세요 : 3 4\n",
      "7\n",
      "두 숫자를 입력해 주세요 : 9 8\n",
      "17\n",
      "두 숫자를 입력해 주세요 : 5 2\n",
      "7\n"
     ]
    },
    {
     "data": {
      "text/plain": [
       "0"
      ]
     },
     "execution_count": 1,
     "metadata": {},
     "output_type": "execute_result"
    }
   ],
   "source": [
    "def plus():\n",
    "    T = int(input('테스트 케이스 개수를 입력하시오 : '))\n",
    "    for i in range(T):\n",
    "        num1 , num2 = map(int, input('두 숫자를 입력해 주세요 : ').split())\n",
    "        print(num1+num2)\n",
    "    return 0\n",
    "\n",
    "plus()"
   ]
  }
 ],
 "metadata": {
  "kernelspec": {
   "display_name": "Python 3",
   "language": "python",
   "name": "python3"
  },
  "language_info": {
   "codemirror_mode": {
    "name": "ipython",
    "version": 3
   },
   "file_extension": ".py",
   "mimetype": "text/x-python",
   "name": "python",
   "nbconvert_exporter": "python",
   "pygments_lexer": "ipython3",
   "version": "3.7.4"
  }
 },
 "nbformat": 4,
 "nbformat_minor": 2
}
