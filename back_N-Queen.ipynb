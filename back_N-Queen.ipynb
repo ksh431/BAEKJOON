{
 "cells": [
  {
   "cell_type": "code",
   "execution_count": 10,
   "metadata": {},
   "outputs": [
    {
     "name": "stdout",
     "output_type": "stream",
     "text": [
      "12\n",
      "14200\n"
     ]
    }
   ],
   "source": [
    "n = int(input())\n",
    "result = 0\n",
    "row = [0]*n\n",
    "\n",
    "def check(a):\n",
    "    for i in range(a):\n",
    "        if row[a] == row[i] or abs(row[a] - row[i]) == a - i:\n",
    "            return False\n",
    "    return True\n",
    "\n",
    "def n_queen(a):\n",
    "    global result\n",
    "    if a == n:\n",
    "        result += 1\n",
    "        return\n",
    "    for i in range(n):\n",
    "        row[a] = i\n",
    "        if check(a):\n",
    "            n_queen(a+1)\n",
    "            \n",
    "        \n",
    "    \n",
    "n_queen(0)\n",
    "print(result)"
   ]
  }
 ],
 "metadata": {
  "kernelspec": {
   "display_name": "Python 3",
   "language": "python",
   "name": "python3"
  },
  "language_info": {
   "codemirror_mode": {
    "name": "ipython",
    "version": 3
   },
   "file_extension": ".py",
   "mimetype": "text/x-python",
   "name": "python",
   "nbconvert_exporter": "python",
   "pygments_lexer": "ipython3",
   "version": "3.7.4"
  }
 },
 "nbformat": 4,
 "nbformat_minor": 2
}
