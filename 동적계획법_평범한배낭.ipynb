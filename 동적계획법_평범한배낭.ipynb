{
 "cells": [
  {
   "cell_type": "code",
   "execution_count": 4,
   "metadata": {},
   "outputs": [
    {
     "name": "stdout",
     "output_type": "stream",
     "text": [
      "4 7\n",
      "6 13\n",
      "4 8\n",
      "3 6\n",
      "5 12\n",
      "14\n"
     ]
    }
   ],
   "source": [
    "\n",
    "N, W = map(int, input().split())\n",
    "bag = []\n",
    "for _ in range(N):\n",
    "    bag.append(list(map(int, input().split())))\n",
    "\n",
    "knap = [0]*(W+1)\n",
    "\n",
    "for i in range(N):\n",
    "    for j in range(W, 1, -1):\n",
    "        if bag[i][0] <= j:\n",
    "            knap[j] = max(knap[j], knap[j-bag[i][0]] + bag[i][1])\n",
    "\n",
    "print(knap[-1])"
   ]
  },
  {
   "cell_type": "code",
   "execution_count": null,
   "metadata": {},
   "outputs": [],
   "source": []
  }
 ],
 "metadata": {
  "kernelspec": {
   "display_name": "Python 3",
   "language": "python",
   "name": "python3"
  },
  "language_info": {
   "codemirror_mode": {
    "name": "ipython",
    "version": 3
   },
   "file_extension": ".py",
   "mimetype": "text/x-python",
   "name": "python",
   "nbconvert_exporter": "python",
   "pygments_lexer": "ipython3",
   "version": "3.7.4"
  }
 },
 "nbformat": 4,
 "nbformat_minor": 2
}
