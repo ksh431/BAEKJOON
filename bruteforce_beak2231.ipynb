{
 "cells": [
  {
   "cell_type": "code",
   "execution_count": 3,
   "metadata": {},
   "outputs": [
    {
     "name": "stdout",
     "output_type": "stream",
     "text": [
      "분해합 입력 : 2115\n",
      "2097\n"
     ]
    },
    {
     "data": {
      "text/plain": [
       "0"
      ]
     },
     "execution_count": 3,
     "metadata": {},
     "output_type": "execute_result"
    }
   ],
   "source": [
    "def dis_sum ():\n",
    "    N = int(input('분해합 입력 : '))\n",
    "    con = 0\n",
    "    for i in range(N):\n",
    "        temp = i\n",
    "        for j in str(i):\n",
    "            temp += int(j) \n",
    "        if temp == N:\n",
    "            con = i\n",
    "            break\n",
    "    print(con)\n",
    "    return 0\n",
    "\n",
    "dis_sum()\n",
    "    "
   ]
  }
 ],
 "metadata": {
  "kernelspec": {
   "display_name": "Python 3",
   "language": "python",
   "name": "python3"
  },
  "language_info": {
   "codemirror_mode": {
    "name": "ipython",
    "version": 3
   },
   "file_extension": ".py",
   "mimetype": "text/x-python",
   "name": "python",
   "nbconvert_exporter": "python",
   "pygments_lexer": "ipython3",
   "version": "3.7.4"
  }
 },
 "nbformat": 4,
 "nbformat_minor": 2
}
