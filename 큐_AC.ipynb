{
 "cells": [
  {
   "cell_type": "code",
   "execution_count": 2,
   "metadata": {},
   "outputs": [
    {
     "name": "stdout",
     "output_type": "stream",
     "text": [
      "4\n",
      "RDD\n",
      "4\n",
      "[1,2,3,4]\n",
      "[2, 1]\n",
      "DD\n",
      "1\n",
      "[42]\n",
      "error\n",
      "RRD\n",
      "6\n",
      "[1,1,2,3,5,8]\n",
      "[1, 2, 3, 5, 8]\n",
      "D\n",
      "0\n",
      "[]\n",
      "error\n"
     ]
    }
   ],
   "source": [
    "import collections\n",
    "\n",
    "T = int(input())\n",
    "for _ in range(T):\n",
    "    p = input()\n",
    "    n = int(input())\n",
    "    arr = eval(input())\n",
    "    que = collections.deque(arr)\n",
    "    result = 0\n",
    "    for i in p:\n",
    "        if len(que) == 0:\n",
    "            print('error')\n",
    "            result = -1\n",
    "            break\n",
    "        else: \n",
    "            if i == 'R':\n",
    "                que.reverse()\n",
    "            else:\n",
    "                que.popleft()\n",
    "    if result == 0:\n",
    "        print(list(que))\n",
    "            "
   ]
  },
  {
   "cell_type": "code",
   "execution_count": null,
   "metadata": {},
   "outputs": [],
   "source": []
  },
  {
   "cell_type": "code",
   "execution_count": null,
   "metadata": {},
   "outputs": [],
   "source": []
  },
  {
   "cell_type": "code",
   "execution_count": null,
   "metadata": {},
   "outputs": [],
   "source": []
  },
  {
   "cell_type": "code",
   "execution_count": null,
   "metadata": {},
   "outputs": [],
   "source": []
  }
 ],
 "metadata": {
  "kernelspec": {
   "display_name": "Python 3",
   "language": "python",
   "name": "python3"
  },
  "language_info": {
   "codemirror_mode": {
    "name": "ipython",
    "version": 3
   },
   "file_extension": ".py",
   "mimetype": "text/x-python",
   "name": "python",
   "nbconvert_exporter": "python",
   "pygments_lexer": "ipython3",
   "version": "3.7.4"
  }
 },
 "nbformat": 4,
 "nbformat_minor": 2
}
