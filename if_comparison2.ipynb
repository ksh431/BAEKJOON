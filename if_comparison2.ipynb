{
 "cells": [
  {
   "cell_type": "code",
   "execution_count": 11,
   "metadata": {},
   "outputs": [
    {
     "name": "stdout",
     "output_type": "stream",
     "text": [
      "세 숫자를 입력해 주세요 : 40 40 40\n",
      "40\n"
     ]
    },
    {
     "data": {
      "text/plain": [
       "0"
      ]
     },
     "execution_count": 11,
     "metadata": {},
     "output_type": "execute_result"
    }
   ],
   "source": [
    "def comparison():\n",
    "    num1, num2, num3 = map(int,input(\"세 숫자를 입력해 주세요 : \").split())\n",
    "    if num1 <= num2 <= num3 or num3 <= num2 <= num1:\n",
    "        print(num2)\n",
    "    elif num2 <= num1 <= num3 or num3 <= num1 <= num2:\n",
    "        print(num1)\n",
    "    else:\n",
    "        print(num3)\n",
    "    return 0\n",
    "\n",
    "comparison()"
   ]
  },
  {
   "cell_type": "code",
   "execution_count": null,
   "metadata": {},
   "outputs": [],
   "source": []
  }
 ],
 "metadata": {
  "kernelspec": {
   "display_name": "Python 3",
   "language": "python",
   "name": "python3"
  },
  "language_info": {
   "codemirror_mode": {
    "name": "ipython",
    "version": 3
   },
   "file_extension": ".py",
   "mimetype": "text/x-python",
   "name": "python",
   "nbconvert_exporter": "python",
   "pygments_lexer": "ipython3",
   "version": "3.7.4"
  }
 },
 "nbformat": 4,
 "nbformat_minor": 2
}
