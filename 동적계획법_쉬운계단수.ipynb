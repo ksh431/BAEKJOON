{
 "cells": [
  {
   "cell_type": "code",
   "execution_count": 3,
   "metadata": {},
   "outputs": [
    {
     "name": "stdout",
     "output_type": "stream",
     "text": [
      "2\n",
      "17\n"
     ]
    }
   ],
   "source": [
    "n = int(input())\n",
    "count = 0\n",
    "def count_step(x, c):\n",
    "    global count\n",
    "    \n",
    "    if x == n:\n",
    "        count += 1\n",
    "        return\n",
    "    \n",
    "    else:\n",
    "        for i in range(10):\n",
    "            if x == 0 :\n",
    "                if i == 0:\n",
    "                    continue\n",
    "                else:\n",
    "                    count_step(x+1, i)\n",
    "            else :\n",
    "                if i == c-1 or i == c+1:\n",
    "                    count_step(x+1, i)\n",
    "    \n",
    "count_step(0, 0)\n",
    "print(count)"
   ]
  }
 ],
 "metadata": {
  "kernelspec": {
   "display_name": "Python 3",
   "language": "python",
   "name": "python3"
  },
  "language_info": {
   "codemirror_mode": {
    "name": "ipython",
    "version": 3
   },
   "file_extension": ".py",
   "mimetype": "text/x-python",
   "name": "python",
   "nbconvert_exporter": "python",
   "pygments_lexer": "ipython3",
   "version": "3.7.4"
  }
 },
 "nbformat": 4,
 "nbformat_minor": 2
}
