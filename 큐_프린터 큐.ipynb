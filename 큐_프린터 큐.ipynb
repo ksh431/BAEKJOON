{
 "cells": [
  {
   "cell_type": "code",
   "execution_count": 9,
   "metadata": {},
   "outputs": [
    {
     "name": "stdout",
     "output_type": "stream",
     "text": [
      "3\n",
      "1 0\n",
      "5\n",
      "1\n",
      "4 2\n",
      "1 2 3 4\n",
      "2\n",
      "6 0\n",
      "1 1 9 1 1 1\n",
      "5\n"
     ]
    }
   ],
   "source": [
    "T = int(input())\n",
    "\n",
    "for i in range(T):\n",
    "    N, M = map(int, input().split())\n",
    "    arr = list(map(int, input().split()))\n",
    "    temp = arr[M]\n",
    "    count = 0\n",
    "    i = 0\n",
    "    turn = 0\n",
    "    while True:\n",
    "    \n",
    "        if turn == 1 and i == M or N == 1:\n",
    "            count += 1\n",
    "            print(count)\n",
    "            break\n",
    "        elif temp < arr[i]:\n",
    "            count = 1\n",
    "            temp = arr[i]\n",
    "        elif arr[M] <= arr[i] and  arr[i] <= temp:\n",
    "            count += 1\n",
    "    \n",
    "        i += 1\n",
    "        \n",
    "        if i == N:\n",
    "            i -= N\n",
    "            turn += 1\n",
    "        \n",
    "    "
   ]
  }
 ],
 "metadata": {
  "kernelspec": {
   "display_name": "Python 3",
   "language": "python",
   "name": "python3"
  },
  "language_info": {
   "codemirror_mode": {
    "name": "ipython",
    "version": 3
   },
   "file_extension": ".py",
   "mimetype": "text/x-python",
   "name": "python",
   "nbconvert_exporter": "python",
   "pygments_lexer": "ipython3",
   "version": "3.7.4"
  }
 },
 "nbformat": 4,
 "nbformat_minor": 2
}
