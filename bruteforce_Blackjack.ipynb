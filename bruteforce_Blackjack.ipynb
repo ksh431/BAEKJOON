{
 "cells": [
  {
   "cell_type": "code",
   "execution_count": 3,
   "metadata": {},
   "outputs": [
    {
     "name": "stdout",
     "output_type": "stream",
     "text": [
      "카드 개수, 기준 수 : 10 500\n",
      "각 카드 수 : 93 181 245 214 315 36 185 138 216 295\n",
      "497\n"
     ]
    },
    {
     "data": {
      "text/plain": [
       "0"
      ]
     },
     "execution_count": 3,
     "metadata": {},
     "output_type": "execute_result"
    }
   ],
   "source": [
    "def blackjack():\n",
    "    N, M = map(int, input('카드 개수, 기준 수 : ').split())\n",
    "    lst = list(map(int, input('각 카드 수 : ').split()))\n",
    "    near = 0\n",
    "    for i in lst:\n",
    "        temp = 0\n",
    "        for j in lst:\n",
    "            if i == j:\n",
    "                continue\n",
    "            for k in lst:\n",
    "                if i == k or j == k:\n",
    "                    continue\n",
    "                temp = i+k+j\n",
    "                if (M-near) > (M-temp) and temp <= M:\n",
    "                    near = temp\n",
    "    print(near)\n",
    "    return 0\n",
    "\n",
    "blackjack()"
   ]
  }
 ],
 "metadata": {
  "kernelspec": {
   "display_name": "Python 3",
   "language": "python",
   "name": "python3"
  },
  "language_info": {
   "codemirror_mode": {
    "name": "ipython",
    "version": 3
   },
   "file_extension": ".py",
   "mimetype": "text/x-python",
   "name": "python",
   "nbconvert_exporter": "python",
   "pygments_lexer": "ipython3",
   "version": "3.7.4"
  }
 },
 "nbformat": 4,
 "nbformat_minor": 2
}
