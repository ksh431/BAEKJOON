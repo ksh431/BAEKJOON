{
 "cells": [
  {
   "cell_type": "code",
   "execution_count": 18,
   "metadata": {},
   "outputs": [
    {
     "name": "stdout",
     "output_type": "stream",
     "text": [
      "0보다 크거나 같고 99보다 작거나 같은 정수를 입력하시오 : 1\n",
      "60\n"
     ]
    }
   ],
   "source": [
    "def pluscycle():\n",
    "    num = int(input('0보다 크거나 같고 99보다 작거나 같은 정수를 입력하시오 : '))\n",
    "    firstnum = num\n",
    "    count = 0\n",
    "    while True:\n",
    "        plusnum = int(num/10) + num%10\n",
    "        num = (int(num%10))*10 + plusnum%10\n",
    "        count += 1\n",
    "        if firstnum == num:\n",
    "            break\n",
    "    return count\n",
    "    \n",
    "print(pluscycle())\n",
    "            "
   ]
  }
 ],
 "metadata": {
  "kernelspec": {
   "display_name": "Python 3",
   "language": "python",
   "name": "python3"
  },
  "language_info": {
   "codemirror_mode": {
    "name": "ipython",
    "version": 3
   },
   "file_extension": ".py",
   "mimetype": "text/x-python",
   "name": "python",
   "nbconvert_exporter": "python",
   "pygments_lexer": "ipython3",
   "version": "3.7.4"
  }
 },
 "nbformat": 4,
 "nbformat_minor": 2
}
