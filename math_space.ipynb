{
 "cells": [
  {
   "cell_type": "code",
   "execution_count": 1,
   "metadata": {},
   "outputs": [
    {
     "name": "stdout",
     "output_type": "stream",
     "text": [
      "테스트 케이스 개수 : 3\n",
      "현재 위치, 목표위치 : 0 3\n",
      "현재 위치, 목표위치 : 1 5\n",
      "현재 위치, 목표위치 : 45 50\n",
      "3\n",
      "3\n",
      "4\n"
     ]
    },
    {
     "data": {
      "text/plain": [
       "0"
      ]
     },
     "execution_count": 1,
     "metadata": {},
     "output_type": "execute_result"
    }
   ],
   "source": [
    "def space():\n",
    "    T = int(input('테스트 케이스 개수 : '))\n",
    "    lst = []\n",
    "    for i in range(T):\n",
    "        x, y = map(int, input('현재 위치, 목표위치 : ').split())\n",
    "        y -= x\n",
    "        x = 0\n",
    "        num = 0\n",
    "        for j in range(y):\n",
    "            if y == j*j:\n",
    "                num = 2*j - 1\n",
    "            elif j*j <y< (j+1)*(j+1):\n",
    "                if  j*j < y < j*j+(j+1):\n",
    "                    num = 2*i\n",
    "                elif j*j+j < y < (j+1)*(j+1):\n",
    "                    num = 2*j+1\n",
    "        lst.append(num)\n",
    "    for i in lst:\n",
    "        print(i)\n",
    "    return 0\n",
    "space()\n"
   ]
  }
 ],
 "metadata": {
  "kernelspec": {
   "display_name": "Python 3",
   "language": "python",
   "name": "python3"
  },
  "language_info": {
   "codemirror_mode": {
    "name": "ipython",
    "version": 3
   },
   "file_extension": ".py",
   "mimetype": "text/x-python",
   "name": "python",
   "nbconvert_exporter": "python",
   "pygments_lexer": "ipython3",
   "version": "3.7.4"
  }
 },
 "nbformat": 4,
 "nbformat_minor": 2
}
