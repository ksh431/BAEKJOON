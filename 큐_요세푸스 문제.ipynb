{
 "cells": [
  {
   "cell_type": "code",
   "execution_count": 12,
   "metadata": {},
   "outputs": [
    {
     "name": "stdout",
     "output_type": "stream",
     "text": [
      "7 3\n",
      "<3, 6, 2, 7, 5, 1, 4>\n"
     ]
    }
   ],
   "source": [
    "N, K = map(int, input().split())\n",
    "arr = [i+1 for i in range(N)]\n",
    "result = []\n",
    "count = K - 1\n",
    "\n",
    "for i in range(N):\n",
    "    if len(arr) > count: \n",
    "        result.append(arr.pop(count))\n",
    "        count += K - 1\n",
    "        \n",
    "    else:\n",
    "        count = count % len(arr)\n",
    "        result.append(arr.pop(count))\n",
    "        count += K - 1\n",
    "\n",
    "print(\"<\", end='')\n",
    "for i in result:\n",
    "    if i == result[-1]:\n",
    "        print(i, end = '')\n",
    "    else:\n",
    "        print(\"%s, \" %(i), end='')\n",
    "print(\">\")\n",
    "    \n"
   ]
  }
 ],
 "metadata": {
  "kernelspec": {
   "display_name": "Python 3",
   "language": "python",
   "name": "python3"
  },
  "language_info": {
   "codemirror_mode": {
    "name": "ipython",
    "version": 3
   },
   "file_extension": ".py",
   "mimetype": "text/x-python",
   "name": "python",
   "nbconvert_exporter": "python",
   "pygments_lexer": "ipython3",
   "version": "3.7.4"
  }
 },
 "nbformat": 4,
 "nbformat_minor": 2
}
