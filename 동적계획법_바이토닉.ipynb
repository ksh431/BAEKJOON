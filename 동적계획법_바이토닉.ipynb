{
 "cells": [
  {
   "cell_type": "code",
   "execution_count": 11,
   "metadata": {},
   "outputs": [
    {
     "name": "stdout",
     "output_type": "stream",
     "text": [
      "10\n",
      "1 5 2 1 4 3 4 5 2 1\n",
      "7\n"
     ]
    }
   ],
   "source": [
    "n = int(input())\n",
    "arr = list(map(int, input().split()))\n",
    "m_len = 0\n",
    "def bitonic(x, c, d):\n",
    "    global m_len\n",
    "    if x == n:\n",
    "        if m_len < c + 1:\n",
    "            m_len = c + 1\n",
    "        return\n",
    "    else:\n",
    "        for i in range(x, n):\n",
    "            down = d\n",
    "            count = c\n",
    "            if arr[x] < arr[i]:\n",
    "                if down > 0:\n",
    "                    bitonic(n, count, down)\n",
    "                    continue\n",
    "                count += 1\n",
    "                bitonic(i, count, down)\n",
    "                continue\n",
    "            elif arr[x] > arr[i]:\n",
    "                count += 1\n",
    "                down += 1\n",
    "                bitonic(i, count, down)\n",
    "                continue\n",
    "            else:\n",
    "                bitonic(x+1, c, d)\n",
    "                continue\n",
    "                \n",
    "bitonic(0, 0, 0)            \n",
    "print(m_len)"
   ]
  }
 ],
 "metadata": {
  "kernelspec": {
   "display_name": "Python 3",
   "language": "python",
   "name": "python3"
  },
  "language_info": {
   "codemirror_mode": {
    "name": "ipython",
    "version": 3
   },
   "file_extension": ".py",
   "mimetype": "text/x-python",
   "name": "python",
   "nbconvert_exporter": "python",
   "pygments_lexer": "ipython3",
   "version": "3.7.4"
  }
 },
 "nbformat": 4,
 "nbformat_minor": 2
}
