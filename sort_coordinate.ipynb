{
 "cells": [
  {
   "cell_type": "code",
   "execution_count": 11,
   "metadata": {},
   "outputs": [
    {
     "name": "stdout",
     "output_type": "stream",
     "text": [
      "점의 개수 : 5\n",
      "3 4\n",
      "1 1\n",
      "1 -1\n",
      "2 2\n",
      "3 3\n",
      "1 -1\n",
      "1 1\n",
      "2 2\n",
      "3 3\n",
      "3 4\n"
     ]
    },
    {
     "data": {
      "text/plain": [
       "0"
      ]
     },
     "execution_count": 11,
     "metadata": {},
     "output_type": "execute_result"
    }
   ],
   "source": [
    "def coordinate():\n",
    "    N = int(input('점의 개수 : '))\n",
    "    lst = []\n",
    "    temp_lst = []\n",
    "    for i in range(N):\n",
    "        lst.append(list(map(int, input().split())))\n",
    "    for i in range(N):\n",
    "        for j in range(N):\n",
    "            if lst[i][0] < lst[j][0]:\n",
    "                temp_lst = lst[i]\n",
    "                lst[i] = lst[j]\n",
    "                lst[j] = temp_lst\n",
    "    for i in range(N):\n",
    "        for j in range(N):\n",
    "            if lst[i][0] == lst[j][0] and i < j and lst[i][1] > lst[j][1]:\n",
    "                temp_lst = lst[i]\n",
    "                lst[i] = lst[j]\n",
    "                lst[j] = temp_lst\n",
    "    for i in range(N):\n",
    "        print(\"%d %d\"%(lst[i][0],lst[i][1]))\n",
    "    return 0\n",
    "\n",
    "coordinate()"
   ]
  }
 ],
 "metadata": {
  "kernelspec": {
   "display_name": "Python 3",
   "language": "python",
   "name": "python3"
  },
  "language_info": {
   "codemirror_mode": {
    "name": "ipython",
    "version": 3
   },
   "file_extension": ".py",
   "mimetype": "text/x-python",
   "name": "python",
   "nbconvert_exporter": "python",
   "pygments_lexer": "ipython3",
   "version": "3.7.4"
  }
 },
 "nbformat": 4,
 "nbformat_minor": 2
}
