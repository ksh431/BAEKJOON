{
 "cells": [
  {
   "cell_type": "code",
   "execution_count": 8,
   "metadata": {},
   "outputs": [
    {
     "name": "stdout",
     "output_type": "stream",
     "text": [
      "4\n",
      "12 3 8 4\n",
      "4/1\n",
      "3/2\n",
      "3/1\n"
     ]
    }
   ],
   "source": [
    "n = int(input())\n",
    "arr = list(map(int, input().split()))\n",
    "\n",
    "for i in range(1, n):\n",
    "    max_n = 0\n",
    "    for j in range(1, min(arr[0], arr[i])+1):\n",
    "        if arr[0]%j == 0 and arr[i]%j == 0:\n",
    "            max_n = j\n",
    "    print(\"%d/%d\"%(arr[0]//max_n,+arr[i]//max_n))"
   ]
  }
 ],
 "metadata": {
  "kernelspec": {
   "display_name": "Python 3",
   "language": "python",
   "name": "python3"
  },
  "language_info": {
   "codemirror_mode": {
    "name": "ipython",
    "version": 3
   },
   "file_extension": ".py",
   "mimetype": "text/x-python",
   "name": "python",
   "nbconvert_exporter": "python",
   "pygments_lexer": "ipython3",
   "version": "3.7.4"
  }
 },
 "nbformat": 4,
 "nbformat_minor": 2
}
