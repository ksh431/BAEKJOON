{
 "cells": [
  {
   "cell_type": "code",
   "execution_count": 1,
   "metadata": {},
   "outputs": [
    {
     "name": "stdout",
     "output_type": "stream",
     "text": [
      "3\n",
      "0\n",
      "1\n",
      "3\n",
      "1 0\n",
      "0 1\n",
      "1 2\n"
     ]
    }
   ],
   "source": [
    "t = int(input())\n",
    "case = []\n",
    "for i in range(t):\n",
    "    case.append(int(input()))\n",
    "arr = [0, 0]\n",
    "def fibonacci(x):\n",
    "    if x == 0:\n",
    "        arr[0] += 1\n",
    "        return 0\n",
    "    elif x == 1:\n",
    "        arr[1] += 1\n",
    "        return 1\n",
    "    else:\n",
    "        return fibonacci(x-1) + fibonacci(x-2)\n",
    "for i in range(t):\n",
    "    fibonacci(case[i])\n",
    "    print(*arr)\n",
    "    arr = [0, 0]"
   ]
  }
 ],
 "metadata": {
  "kernelspec": {
   "display_name": "Python 3",
   "language": "python",
   "name": "python3"
  },
  "language_info": {
   "codemirror_mode": {
    "name": "ipython",
    "version": 3
   },
   "file_extension": ".py",
   "mimetype": "text/x-python",
   "name": "python",
   "nbconvert_exporter": "python",
   "pygments_lexer": "ipython3",
   "version": "3.7.4"
  }
 },
 "nbformat": 4,
 "nbformat_minor": 2
}
