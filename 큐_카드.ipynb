{
 "cells": [
  {
   "cell_type": "code",
   "execution_count": 8,
   "metadata": {},
   "outputs": [
    {
     "name": "stdout",
     "output_type": "stream",
     "text": [
      "6\n",
      "4\n"
     ]
    }
   ],
   "source": [
    "n = int(input())\n",
    "\n",
    "if n == 1:\n",
    "    print(n)\n",
    "else:\n",
    "    arr = [i+1 for i in range(n)]\n",
    "    count = 0\n",
    "    while True:\n",
    "        if len(arr) == 1:\n",
    "            print(arr[0])\n",
    "            break \n",
    "        else:\n",
    "            if count == 0:\n",
    "                del arr[0]\n",
    "                count += 1\n",
    "            else:\n",
    "                arr.append(arr[0])\n",
    "                del arr[0]\n",
    "                count -= 1\n",
    "            \n",
    "            "
   ]
  }
 ],
 "metadata": {
  "kernelspec": {
   "display_name": "Python 3",
   "language": "python",
   "name": "python3"
  },
  "language_info": {
   "codemirror_mode": {
    "name": "ipython",
    "version": 3
   },
   "file_extension": ".py",
   "mimetype": "text/x-python",
   "name": "python",
   "nbconvert_exporter": "python",
   "pygments_lexer": "ipython3",
   "version": "3.7.4"
  }
 },
 "nbformat": 4,
 "nbformat_minor": 2
}
