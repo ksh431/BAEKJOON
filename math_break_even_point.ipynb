{
 "cells": [
  {
   "cell_type": "code",
   "execution_count": 3,
   "metadata": {},
   "outputs": [
    {
     "name": "stdout",
     "output_type": "stream",
     "text": [
      "고정비용, 가변비용, 제품가격 : 1000 70 170\n",
      "11\n"
     ]
    },
    {
     "data": {
      "text/plain": [
       "0"
      ]
     },
     "execution_count": 3,
     "metadata": {},
     "output_type": "execute_result"
    }
   ],
   "source": [
    "def break_even():\n",
    "    num = 0\n",
    "    fix_cost, var_cost, price = map(int, input('고정비용, 가변비용, 제품가격 : ').split())\n",
    "    while True:\n",
    "        num += 1\n",
    "        total_cost = fix_cost + (var_cost*num)\n",
    "        revenue = price*num\n",
    "        if revenue > total_cost:\n",
    "            break\n",
    "    print(num)\n",
    "    return 0\n",
    "\n",
    "break_even()"
   ]
  }
 ],
 "metadata": {
  "kernelspec": {
   "display_name": "Python 3",
   "language": "python",
   "name": "python3"
  },
  "language_info": {
   "codemirror_mode": {
    "name": "ipython",
    "version": 3
   },
   "file_extension": ".py",
   "mimetype": "text/x-python",
   "name": "python",
   "nbconvert_exporter": "python",
   "pygments_lexer": "ipython3",
   "version": "3.7.4"
  }
 },
 "nbformat": 4,
 "nbformat_minor": 2
}
