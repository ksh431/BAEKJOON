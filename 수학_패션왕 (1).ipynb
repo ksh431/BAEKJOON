{
 "cells": [
  {
   "cell_type": "code",
   "execution_count": 7,
   "metadata": {},
   "outputs": [
    {
     "name": "stdout",
     "output_type": "stream",
     "text": [
      "1\n",
      "3\n",
      "hat headgear\n",
      "sunglasses eyewear\n",
      "turban headgear\n",
      "5\n"
     ]
    }
   ],
   "source": [
    "n = int(input())\n",
    "\n",
    "for _ in range(n):\n",
    "    k = int(input())\n",
    "    \n",
    "    wear = []\n",
    "    for i in range(k):\n",
    "        wear.append(input().split()[1])\n",
    "    \n",
    "    set_wear = tuple(set(wear))\n",
    "    \n",
    "    part = []\n",
    "    for i in range(len(set_wear)):\n",
    "        part.append(wear.count(set_wear[i]))\n",
    "        \n",
    "    result = 1\n",
    "    for p in part:\n",
    "        result *= (p + 1)\n",
    "    \n",
    "    print(result -1)"
   ]
  }
 ],
 "metadata": {
  "kernelspec": {
   "display_name": "Python 3",
   "language": "python",
   "name": "python3"
  },
  "language_info": {
   "codemirror_mode": {
    "name": "ipython",
    "version": 3
   },
   "file_extension": ".py",
   "mimetype": "text/x-python",
   "name": "python",
   "nbconvert_exporter": "python",
   "pygments_lexer": "ipython3",
   "version": "3.7.4"
  }
 },
 "nbformat": 4,
 "nbformat_minor": 2
}
