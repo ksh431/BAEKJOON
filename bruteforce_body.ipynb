{
 "cells": [
  {
   "cell_type": "code",
   "execution_count": 2,
   "metadata": {},
   "outputs": [
    {
     "name": "stdout",
     "output_type": "stream",
     "text": [
      "전체 사람 수 : 5\n",
      "몸무게, 키 : 55 185\n",
      "몸무게, 키 : 58 183\n",
      "몸무게, 키 : 88 186\n",
      "몸무게, 키 : 60 175\n",
      "몸무게, 키 : 46 155\n",
      "2 2 1 2 5 "
     ]
    },
    {
     "data": {
      "text/plain": [
       "0"
      ]
     },
     "execution_count": 2,
     "metadata": {},
     "output_type": "execute_result"
    }
   ],
   "source": [
    "def body():\n",
    "    N = int(input('전체 사람 수 : '))\n",
    "    lst = []\n",
    "    result = []\n",
    "    for i in range(N):\n",
    "        lst.append(list(map(int, input('몸무게, 키 : ').split())))\n",
    "    for i in range(N):\n",
    "        temp = 1\n",
    "        for j in range(N):\n",
    "            if lst[i][0] < lst[j][0] and lst[i][1] < lst[j][1]:\n",
    "                temp += 1\n",
    "        result.append(temp)\n",
    "    for i in result:\n",
    "        print(i, end=' ')\n",
    "    return 0\n",
    "\n",
    "body()"
   ]
  }
 ],
 "metadata": {
  "kernelspec": {
   "display_name": "Python 3",
   "language": "python",
   "name": "python3"
  },
  "language_info": {
   "codemirror_mode": {
    "name": "ipython",
    "version": 3
   },
   "file_extension": ".py",
   "mimetype": "text/x-python",
   "name": "python",
   "nbconvert_exporter": "python",
   "pygments_lexer": "ipython3",
   "version": "3.7.4"
  }
 },
 "nbformat": 4,
 "nbformat_minor": 2
}
