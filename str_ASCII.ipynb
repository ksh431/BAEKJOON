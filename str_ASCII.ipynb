{
 "cells": [
  {
   "cell_type": "code",
   "execution_count": 4,
   "metadata": {},
   "outputs": [
    {
     "name": "stdout",
     "output_type": "stream",
     "text": [
      "65\n",
      "67\n",
      "48\n",
      "57\n",
      "97\n",
      "122\n"
     ]
    }
   ],
   "source": [
    "def ASCII(ch):\n",
    "    asc = ord(ch)\n",
    "    return asc\n",
    "\n",
    "print(ASCII('A'))\n",
    "print(ASCII('C'))\n",
    "print(ASCII('0'))\n",
    "print(ASCII('9'))\n",
    "print(ASCII('a'))\n",
    "print(ASCII('z'))"
   ]
  },
  {
   "cell_type": "code",
   "execution_count": null,
   "metadata": {},
   "outputs": [],
   "source": []
  },
  {
   "cell_type": "code",
   "execution_count": null,
   "metadata": {},
   "outputs": [],
   "source": []
  }
 ],
 "metadata": {
  "kernelspec": {
   "display_name": "Python 3",
   "language": "python",
   "name": "python3"
  },
  "language_info": {
   "codemirror_mode": {
    "name": "ipython",
    "version": 3
   },
   "file_extension": ".py",
   "mimetype": "text/x-python",
   "name": "python",
   "nbconvert_exporter": "python",
   "pygments_lexer": "ipython3",
   "version": "3.7.4"
  }
 },
 "nbformat": 4,
 "nbformat_minor": 2
}
