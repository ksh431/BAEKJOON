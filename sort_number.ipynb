{
 "cells": [
  {
   "cell_type": "code",
   "execution_count": 2,
   "metadata": {},
   "outputs": [
    {
     "name": "stdout",
     "output_type": "stream",
     "text": [
      "개수 : 5\n",
      "수 입력 : 5\n",
      "수 입력 : 2\n",
      "수 입력 : 3\n",
      "수 입력 : 4\n",
      "수 입력 : 1\n",
      "1\n",
      "2\n",
      "3\n",
      "4\n",
      "5\n"
     ]
    },
    {
     "data": {
      "text/plain": [
       "0"
      ]
     },
     "execution_count": 2,
     "metadata": {},
     "output_type": "execute_result"
    }
   ],
   "source": [
    "def sort():\n",
    "    N = int(input('개수 : '))\n",
    "    lst = []\n",
    "    for i in range(N):\n",
    "        lst.append(int(input('수 입력 : ')))\n",
    "    for i in range(N):\n",
    "        for j in range(N):\n",
    "            temp = 0\n",
    "            if lst[i] < lst[j]:\n",
    "                temp = lst[i]\n",
    "                lst[i] = lst[j]\n",
    "                lst[j] = temp\n",
    "    for i in lst:\n",
    "        print(i)\n",
    "    return 0\n",
    "\n",
    "sort()\n",
    "        "
   ]
  }
 ],
 "metadata": {
  "kernelspec": {
   "display_name": "Python 3",
   "language": "python",
   "name": "python3"
  },
  "language_info": {
   "codemirror_mode": {
    "name": "ipython",
    "version": 3
   },
   "file_extension": ".py",
   "mimetype": "text/x-python",
   "name": "python",
   "nbconvert_exporter": "python",
   "pygments_lexer": "ipython3",
   "version": "3.7.4"
  }
 },
 "nbformat": 4,
 "nbformat_minor": 2
}
