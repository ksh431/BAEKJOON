{
 "cells": [
  {
   "cell_type": "code",
   "execution_count": 6,
   "metadata": {},
   "outputs": [
    {
     "name": "stdout",
     "output_type": "stream",
     "text": [
      "설탕 무게 : 18\n",
      "4\n"
     ]
    },
    {
     "data": {
      "text/plain": [
       "0"
      ]
     },
     "execution_count": 6,
     "metadata": {},
     "output_type": "execute_result"
    }
   ],
   "source": [
    "def del_sugar():\n",
    "    total = int(input('설탕 무게 : '))\n",
    "    num5 = 0\n",
    "    num3 = 0\n",
    "    while total > 0:\n",
    "        if total % 5 == 0:\n",
    "            num5 = int(total/5)\n",
    "            total = 0\n",
    "            break \n",
    "        num3 +=1\n",
    "        total -= 3 \n",
    "    if total != 0:\n",
    "        print(-1)\n",
    "    else :\n",
    "        print(num3 + num5)\n",
    "    return 0\n",
    "del_sugar()"
   ]
  }
 ],
 "metadata": {
  "kernelspec": {
   "display_name": "Python 3",
   "language": "python",
   "name": "python3"
  },
  "language_info": {
   "codemirror_mode": {
    "name": "ipython",
    "version": 3
   },
   "file_extension": ".py",
   "mimetype": "text/x-python",
   "name": "python",
   "nbconvert_exporter": "python",
   "pygments_lexer": "ipython3",
   "version": "3.7.4"
  }
 },
 "nbformat": 4,
 "nbformat_minor": 2
}
