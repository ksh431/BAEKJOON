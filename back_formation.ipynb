{
 "cells": [
  {
   "cell_type": "code",
   "execution_count": 6,
   "metadata": {},
   "outputs": [
    {
     "name": "stdout",
     "output_type": "stream",
     "text": [
      "4\n",
      "0 1 2 3\n",
      "4 0 5 6\n",
      "7 1 0 2\n",
      "3 4 5 0\n",
      "0\n"
     ]
    }
   ],
   "source": [
    "import math\n",
    "from itertools import combinations\n",
    "n = int(input())\n",
    "maps = []\n",
    "for _ in range(n):\n",
    "    maps.append(list(map(int, input().split())))\n",
    "    \n",
    "player = list(range(n))\n",
    "\n",
    "candi = list(combinations(player, n//2))\n",
    "\n",
    "answer = 2000\n",
    "\n",
    "for team1 in candi:\n",
    "    team2 = list(set(player) - set(team1))\n",
    "    \n",
    "    team1_sum, team2_sum = 0, 0\n",
    "    \n",
    "    team1_com = list(combinations(list(team1), 2))\n",
    "    team2_com = list(combinations(team2, 2))\n",
    "    \n",
    "    for x, y in team1_com:\n",
    "        team1_sum += (maps[x][y] + maps[y][x])\n",
    "    for x, y in team2_com:\n",
    "        team2_sum += (maps[x][y] + maps[y][x])\n",
    "    \n",
    "    if answer > abs(team1_sum - team2_sum):\n",
    "        answer = abs(team1_sum - team2_sum)\n",
    "\n",
    "print(answer)\n",
    "    \n"
   ]
  },
  {
   "cell_type": "code",
   "execution_count": null,
   "metadata": {},
   "outputs": [],
   "source": []
  }
 ],
 "metadata": {
  "kernelspec": {
   "display_name": "Python 3",
   "language": "python",
   "name": "python3"
  },
  "language_info": {
   "codemirror_mode": {
    "name": "ipython",
    "version": 3
   },
   "file_extension": ".py",
   "mimetype": "text/x-python",
   "name": "python",
   "nbconvert_exporter": "python",
   "pygments_lexer": "ipython3",
   "version": "3.7.4"
  }
 },
 "nbformat": 4,
 "nbformat_minor": 2
}
