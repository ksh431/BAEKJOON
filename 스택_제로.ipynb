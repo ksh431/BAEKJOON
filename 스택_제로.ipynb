{
 "cells": [
  {
   "cell_type": "code",
   "execution_count": 3,
   "metadata": {},
   "outputs": [
    {
     "name": "stdout",
     "output_type": "stream",
     "text": [
      "10\n",
      "1\n",
      "3\n",
      "5\n",
      "4\n",
      "0\n",
      "0\n",
      "7\n",
      "0\n",
      "0\n",
      "6\n",
      "7\n"
     ]
    }
   ],
   "source": [
    "n = int(input())\n",
    "arr = []\n",
    "result = 0\n",
    "for _ in range(n):\n",
    "    k = int(input())\n",
    "    if k == 0:\n",
    "        del arr[-1]\n",
    "        continue\n",
    "    arr.append(k)\n",
    "if len(arr) == 0:\n",
    "    print(0)\n",
    "else:\n",
    "    for i in arr:\n",
    "        result += i\n",
    "    print(result) "
   ]
  }
 ],
 "metadata": {
  "kernelspec": {
   "display_name": "Python 3",
   "language": "python",
   "name": "python3"
  },
  "language_info": {
   "codemirror_mode": {
    "name": "ipython",
    "version": 3
   },
   "file_extension": ".py",
   "mimetype": "text/x-python",
   "name": "python",
   "nbconvert_exporter": "python",
   "pygments_lexer": "ipython3",
   "version": "3.7.4"
  }
 },
 "nbformat": 4,
 "nbformat_minor": 2
}
