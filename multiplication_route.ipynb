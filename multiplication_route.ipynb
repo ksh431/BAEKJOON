{
 "cells": [
  {
   "cell_type": "code",
   "execution_count": 3,
   "metadata": {},
   "outputs": [
    {
     "name": "stdout",
     "output_type": "stream",
     "text": [
      "2360 3776 1416 181720\n"
     ]
    }
   ],
   "source": [
    "def mul_route(A,B):\n",
    "    third = (int)(B/100)\n",
    "    second = (int)(B%100/10)\n",
    "    first = B%10\n",
    "    \n",
    "    mul1 = first*A\n",
    "    mul2 = second*A\n",
    "    mul3 = third*A\n",
    "    mul = mul1+mul2*10+mul3*100\n",
    "    \n",
    "    print(mul1, mul2, mul3, mul)\n",
    "    \n",
    "mul_route(472, 385)"
   ]
  }
 ],
 "metadata": {
  "kernelspec": {
   "display_name": "Python 3",
   "language": "python",
   "name": "python3"
  },
  "language_info": {
   "codemirror_mode": {
    "name": "ipython",
    "version": 3
   },
   "file_extension": ".py",
   "mimetype": "text/x-python",
   "name": "python",
   "nbconvert_exporter": "python",
   "pygments_lexer": "ipython3",
   "version": "3.7.4"
  }
 },
 "nbformat": 4,
 "nbformat_minor": 2
}
