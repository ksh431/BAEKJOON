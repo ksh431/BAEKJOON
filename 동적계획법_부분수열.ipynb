{
 "cells": [
  {
   "cell_type": "code",
   "execution_count": 4,
   "metadata": {},
   "outputs": [
    {
     "name": "stdout",
     "output_type": "stream",
     "text": [
      "8\n",
      "1 2 6 1 2 3 4 5\n",
      "5\n"
     ]
    }
   ],
   "source": [
    "n = int(input())\n",
    "arr = list(map(int, input().split()))\n",
    "m_len = 0\n",
    "\n",
    "def sequence(x, loc, c, v):\n",
    "    global m_len\n",
    "    if x == n:\n",
    "        if m_len < c:\n",
    "            m_len = c\n",
    "        return\n",
    "    else:\n",
    "        for i in range(loc, n):\n",
    "            count = c\n",
    "            if v < arr[i]:\n",
    "                count += 1\n",
    "                sequence(x+1, i, count, arr[i])\n",
    "            else:\n",
    "                sequence(x+1, i, c, v)\n",
    "            \n",
    "\n",
    "sequence(0, 0, 0, 0)\n",
    "print(m_len)        \n",
    "        "
   ]
  }
 ],
 "metadata": {
  "kernelspec": {
   "display_name": "Python 3",
   "language": "python",
   "name": "python3"
  },
  "language_info": {
   "codemirror_mode": {
    "name": "ipython",
    "version": 3
   },
   "file_extension": ".py",
   "mimetype": "text/x-python",
   "name": "python",
   "nbconvert_exporter": "python",
   "pygments_lexer": "ipython3",
   "version": "3.7.4"
  }
 },
 "nbformat": 4,
 "nbformat_minor": 2
}
