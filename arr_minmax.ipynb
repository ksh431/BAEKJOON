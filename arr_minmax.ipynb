{
 "cells": [
  {
   "cell_type": "code",
   "execution_count": 3,
   "metadata": {},
   "outputs": [
    {
     "name": "stdout",
     "output_type": "stream",
     "text": [
      "입력할 정수의 개수를 입력하시오 : 5\n",
      "각 정수를 입력하시오 : 20 10 35 30 7\n",
      "7 35\n"
     ]
    },
    {
     "data": {
      "text/plain": [
       "0"
      ]
     },
     "execution_count": 3,
     "metadata": {},
     "output_type": "execute_result"
    }
   ],
   "source": [
    "def minmax():\n",
    "    num = int(input('입력할 정수의 개수를 입력하시오 : '))\n",
    "    arr = list(map(int, input('각 정수를 입력하시오 : ').split()))\n",
    "    max = 0\n",
    "    min = 10000001\n",
    "    for i in range (num):\n",
    "        if arr[i] > max:\n",
    "            max = arr[i]\n",
    "        if arr[i] < min:\n",
    "            min = arr[i]\n",
    "    print(\"%d %d\" %(min, max))\n",
    "    return 0\n",
    "\n",
    "minmax()"
   ]
  }
 ],
 "metadata": {
  "kernelspec": {
   "display_name": "Python 3",
   "language": "python",
   "name": "python3"
  },
  "language_info": {
   "codemirror_mode": {
    "name": "ipython",
    "version": 3
   },
   "file_extension": ".py",
   "mimetype": "text/x-python",
   "name": "python",
   "nbconvert_exporter": "python",
   "pygments_lexer": "ipython3",
   "version": "3.7.4"
  }
 },
 "nbformat": 4,
 "nbformat_minor": 2
}
