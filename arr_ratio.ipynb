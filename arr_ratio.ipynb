{
 "cells": [
  {
   "cell_type": "code",
   "execution_count": 14,
   "metadata": {},
   "outputs": [
    {
     "name": "stdout",
     "output_type": "stream",
     "text": [
      "테스트 케이스 개수 : 5\n",
      "학생 수와 각 학생 점수 : 5 50 50 70 80 100\n",
      "학생 수와 각 학생 점수 : 7 100 95 90 80 70 60 50\n",
      "학생 수와 각 학생 점수 : 3 70 90 80\n",
      "학생 수와 각 학생 점수 : 3 70 90 81\n",
      "학생 수와 각 학생 점수 : 9 100 99 98 97 96 95 94 93 91\n",
      "40.000%\n",
      "57.143%\n",
      "33.333%\n",
      "66.667%\n",
      "55.556%\n"
     ]
    },
    {
     "data": {
      "text/plain": [
       "0"
      ]
     },
     "execution_count": 14,
     "metadata": {},
     "output_type": "execute_result"
    }
   ],
   "source": [
    "def ratio():\n",
    "    case_num = int(input('테스트 케이스 개수 : '))\n",
    "    lst = []\n",
    "    for i in range(case_num):\n",
    "        lst.append(list(map(int, input('학생 수와 각 학생 점수 : ').split())))\n",
    "    for i in range(case_num):\n",
    "        total = 0\n",
    "        count = 0\n",
    "        for j in range(lst[i][0]):\n",
    "            total += lst[i][j+1]\n",
    "        average = total/lst[i][0]\n",
    "        for j in range(lst[i][0]):\n",
    "            if lst[i][j+1] > average:\n",
    "                count += 1\n",
    "        print(\"%.3f%%\" %(count/lst[i][0]*100))\n",
    "    return 0\n",
    "ratio()"
   ]
  },
  {
   "cell_type": "code",
   "execution_count": null,
   "metadata": {},
   "outputs": [],
   "source": []
  }
 ],
 "metadata": {
  "kernelspec": {
   "display_name": "Python 3",
   "language": "python",
   "name": "python3"
  },
  "language_info": {
   "codemirror_mode": {
    "name": "ipython",
    "version": 3
   },
   "file_extension": ".py",
   "mimetype": "text/x-python",
   "name": "python",
   "nbconvert_exporter": "python",
   "pygments_lexer": "ipython3",
   "version": "3.7.4"
  }
 },
 "nbformat": 4,
 "nbformat_minor": 2
}
