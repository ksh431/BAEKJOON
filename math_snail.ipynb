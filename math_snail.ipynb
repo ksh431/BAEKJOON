{
 "cells": [
  {
   "cell_type": "code",
   "execution_count": 3,
   "metadata": {},
   "outputs": [
    {
     "name": "stdout",
     "output_type": "stream",
     "text": [
      "달팽이 하루 이동 거리, 손실 거리, 막대 높이 : 2 1 5\n",
      "4\n"
     ]
    }
   ],
   "source": [
    "def snail():\n",
    "    A, B, V = map(int, input('달팽이 하루 이동 거리, 손실 거리, 막대 높이 : ').split())\n",
    "    total = 0\n",
    "    day = 0\n",
    "    while True:\n",
    "        total += A\n",
    "        day += 1\n",
    "        if total >= V:\n",
    "            break\n",
    "        total -= B\n",
    "    print(day)\n",
    "snail()"
   ]
  }
 ],
 "metadata": {
  "kernelspec": {
   "display_name": "Python 3",
   "language": "python",
   "name": "python3"
  },
  "language_info": {
   "codemirror_mode": {
    "name": "ipython",
    "version": 3
   },
   "file_extension": ".py",
   "mimetype": "text/x-python",
   "name": "python",
   "nbconvert_exporter": "python",
   "pygments_lexer": "ipython3",
   "version": "3.7.4"
  }
 },
 "nbformat": 4,
 "nbformat_minor": 2
}
