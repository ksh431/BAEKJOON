{
 "cells": [
  {
   "cell_type": "code",
   "execution_count": 1,
   "metadata": {},
   "outputs": [
    {
     "name": "stdout",
     "output_type": "stream",
     "text": [
      "2 5\n",
      "1 2\n",
      "3 4\n",
      "69 558\n",
      "337 406\n"
     ]
    }
   ],
   "source": [
    "def matrix_mul(a, b):\n",
    "    result = [[0]* N for _ in range(N)]\n",
    "    for i in range(N):\n",
    "        for j in range(N):\n",
    "            for k in range(N):\n",
    "                result[i][j] += a[i][k] * b[k][j]\n",
    "    \n",
    "    for i in range(N):\n",
    "        for j in range(N):\n",
    "            result[i][j] %= 1000\n",
    "                \n",
    "    return result\n",
    "    \n",
    "    \n",
    "N, B = map(int, input().split())\n",
    "matrix = [list(map(int, input().split())) for _ in range(N)]\n",
    "B = bin(B)[2:] \n",
    "\n",
    "identity_matrix = [[1 if i == j else 0 for i in range(N)] for j in range(N)]\n",
    "\n",
    "result = identity_matrix[:]\n",
    "for i in range(len(B)):\n",
    "    if B[-i-1] == '1':\n",
    "        temp = matrix[:]\n",
    "        while i != 0:\n",
    "            temp = matrix_mul(temp, temp)\n",
    "            i -= 1\n",
    "        result = matrix_mul(result, temp)\n",
    "\n",
    "for row in result:\n",
    "    print(*row)"
   ]
  }
 ],
 "metadata": {
  "kernelspec": {
   "display_name": "Python 3",
   "language": "python",
   "name": "python3"
  },
  "language_info": {
   "codemirror_mode": {
    "name": "ipython",
    "version": 3
   },
   "file_extension": ".py",
   "mimetype": "text/x-python",
   "name": "python",
   "nbconvert_exporter": "python",
   "pygments_lexer": "ipython3",
   "version": "3.7.4"
  }
 },
 "nbformat": 4,
 "nbformat_minor": 2
}
