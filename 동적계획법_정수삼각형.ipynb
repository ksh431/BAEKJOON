{
 "cells": [
  {
   "cell_type": "code",
   "execution_count": 15,
   "metadata": {},
   "outputs": [
    {
     "name": "stdout",
     "output_type": "stream",
     "text": [
      "5\n",
      "7\n",
      "3 8\n",
      "8 1 0\n",
      "2 7 4 4\n",
      "4 5 2 6 5\n",
      "30\n"
     ]
    }
   ],
   "source": [
    "n = int(input())\n",
    "arr = []\n",
    "for i in range(n):\n",
    "    arr.append(list(map(int, input().split())))\n",
    "max = 0\n",
    "def max_path(x, c, r):\n",
    "    global max\n",
    "    if x == n:\n",
    "        if max < r:\n",
    "            max = r\n",
    "        return\n",
    "    \n",
    "    else:\n",
    "        for i in range(x+1):\n",
    "            res = r\n",
    "            if i == c:\n",
    "                res += arr[x][i]\n",
    "                max_path(x+1, i, res)\n",
    "            if i == c+1:\n",
    "                res += arr[x][i]\n",
    "                max_path(x+1, i, res)\n",
    "\n",
    "max_path(0,0,0)\n",
    "print(max)"
   ]
  }
 ],
 "metadata": {
  "kernelspec": {
   "display_name": "Python 3",
   "language": "python",
   "name": "python3"
  },
  "language_info": {
   "codemirror_mode": {
    "name": "ipython",
    "version": 3
   },
   "file_extension": ".py",
   "mimetype": "text/x-python",
   "name": "python",
   "nbconvert_exporter": "python",
   "pygments_lexer": "ipython3",
   "version": "3.7.4"
  }
 },
 "nbformat": 4,
 "nbformat_minor": 2
}
