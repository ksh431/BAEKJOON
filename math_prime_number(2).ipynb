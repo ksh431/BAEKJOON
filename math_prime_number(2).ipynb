{
 "cells": [
  {
   "cell_type": "code",
   "execution_count": 15,
   "metadata": {},
   "outputs": [
    {
     "name": "stdout",
     "output_type": "stream",
     "text": [
      "하한 : 1\n",
      "상한 : 2\n",
      "2\n",
      "2\n"
     ]
    },
    {
     "data": {
      "text/plain": [
       "0"
      ]
     },
     "execution_count": 15,
     "metadata": {},
     "output_type": "execute_result"
    }
   ],
   "source": [
    "import math\n",
    "\n",
    "def main():\n",
    "    M = int(input('하한 : '))\n",
    "    N = int(input('상한 : '))\n",
    "    num = M\n",
    "    prime_sum = 0\n",
    "    prime_min = 0\n",
    "    count = 0\n",
    "    for i in range(N-M+1):\n",
    "        temp = 0\n",
    "        temp = prime_number(num)\n",
    "        if temp != -1:\n",
    "            prime_sum += temp\n",
    "            count += 1\n",
    "        num += 1\n",
    "        if count == 1:\n",
    "            prime_min = prime_sum\n",
    "    if prime_sum == 0:\n",
    "        print(-1)\n",
    "    else:\n",
    "        print(prime_sum)\n",
    "        print(prime_min)\n",
    "    return 0\n",
    "\n",
    "def prime_number(a):\n",
    "    if a == 2 or a == 3 or a == 5 or a == 7:\n",
    "        return a\n",
    "    if int(math.sqrt(a)) == math.sqrt(a):\n",
    "        return -1\n",
    "    count = 0\n",
    "    for i in range(int(math.sqrt(a))):\n",
    "        if i == 0 or i == 1:\n",
    "            continue\n",
    "        if a%i == 0:\n",
    "            count = 0\n",
    "            break\n",
    "        count += 1 \n",
    "    if count >= 1:\n",
    "        return a\n",
    "    else:\n",
    "        return -1\n",
    "\n",
    "main()"
   ]
  }
 ],
 "metadata": {
  "kernelspec": {
   "display_name": "Python 3",
   "language": "python",
   "name": "python3"
  },
  "language_info": {
   "codemirror_mode": {
    "name": "ipython",
    "version": 3
   },
   "file_extension": ".py",
   "mimetype": "text/x-python",
   "name": "python",
   "nbconvert_exporter": "python",
   "pygments_lexer": "ipython3",
   "version": "3.7.4"
  }
 },
 "nbformat": 4,
 "nbformat_minor": 2
}
