{
 "cells": [
  {
   "cell_type": "code",
   "execution_count": 1,
   "metadata": {},
   "outputs": [
    {
     "name": "stdout",
     "output_type": "stream",
     "text": [
      "4\n",
      "0 0\n",
      "10 10\n",
      "0 10\n",
      "10 0\n",
      "100\n"
     ]
    }
   ],
   "source": [
    "import math\n",
    "\n",
    "n = int(input())\n",
    "arr = []\n",
    "for _ in range(n):\n",
    "    arr.append(list(map(int, input().split())))\n",
    "\n",
    "dis = math.inf\n",
    "for i in range(n):\n",
    "    if i == n-1:\n",
    "        break\n",
    "    for j in range(i+1, n):\n",
    "        if dis > ((arr[i][0] - arr[j][0])**2) + ((arr[i][1] - arr[j][1])**2):\n",
    "            dis = ((arr[i][0] - arr[j][0])**2) + ((arr[i][1] - arr[j][1])**2)\n",
    "            \n",
    "print(dis)"
   ]
  }
 ],
 "metadata": {
  "kernelspec": {
   "display_name": "Python 3",
   "language": "python",
   "name": "python3"
  },
  "language_info": {
   "codemirror_mode": {
    "name": "ipython",
    "version": 3
   },
   "file_extension": ".py",
   "mimetype": "text/x-python",
   "name": "python",
   "nbconvert_exporter": "python",
   "pygments_lexer": "ipython3",
   "version": "3.7.4"
  }
 },
 "nbformat": 4,
 "nbformat_minor": 2
}
