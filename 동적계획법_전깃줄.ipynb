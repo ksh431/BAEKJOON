{
 "cells": [
  {
   "cell_type": "code",
   "execution_count": 3,
   "metadata": {},
   "outputs": [
    {
     "name": "stdout",
     "output_type": "stream",
     "text": [
      "8\n",
      "1 8\n",
      "3 9\n",
      "2 2\n",
      "4 1\n",
      "6 4\n",
      "10 10\n",
      "9 7\n",
      "7 6\n",
      "3\n"
     ]
    }
   ],
   "source": [
    "n = int(input())\n",
    "arr = []\n",
    "\n",
    "for _ in range(n):\n",
    "    arr.append(list(map(int, input().split())))\n",
    "\n",
    "arr = sorted(arr, key = lambda x: x[0])\n",
    "\n",
    "\n",
    "result = [[] for _ in range(n)]\n",
    "for i in range(n):\n",
    "    if i == 0:\n",
    "        result[i].append(arr[i][1])\n",
    "    else:\n",
    "        for j in range(0, i):\n",
    "            if result[j][-1] < arr[i][1]:\n",
    "                if len(result[i]) - 1 < len(result[j]):\n",
    "                    result[i] = result[j] + [arr[i][1]]\n",
    "        if not result[i]:\n",
    "            result[i].append(arr[i][1])\n",
    "\n",
    "\n",
    "max_n = 0\n",
    "for i in range(n):\n",
    "    max_n = max(max_n, len(result[i]))\n",
    "print(n - max_n)"
   ]
  }
 ],
 "metadata": {
  "kernelspec": {
   "display_name": "Python 3",
   "language": "python",
   "name": "python3"
  },
  "language_info": {
   "codemirror_mode": {
    "name": "ipython",
    "version": 3
   },
   "file_extension": ".py",
   "mimetype": "text/x-python",
   "name": "python",
   "nbconvert_exporter": "python",
   "pygments_lexer": "ipython3",
   "version": "3.7.4"
  }
 },
 "nbformat": 4,
 "nbformat_minor": 2
}
