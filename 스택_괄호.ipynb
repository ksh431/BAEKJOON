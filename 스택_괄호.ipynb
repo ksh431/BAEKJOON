{
 "cells": [
  {
   "cell_type": "code",
   "execution_count": 6,
   "metadata": {},
   "outputs": [
    {
     "name": "stdout",
     "output_type": "stream",
     "text": [
      "6\n",
      "(())())\n",
      "No\n",
      "(((()())()\n",
      "No\n",
      "(()())((()))\n",
      "Yes\n",
      "((()()(()))(((())))()\n",
      "No\n",
      "()()()()(()()())()\n",
      "Yes\n",
      "(()((())()(\n",
      "No\n"
     ]
    }
   ],
   "source": [
    "n = int(input())\n",
    "\n",
    "for _ in range(n):\n",
    "    k = input()\n",
    "    sum = 0\n",
    "    for i in k:\n",
    "        result = 'No'\n",
    "        if i == '(':\n",
    "            sum += 1\n",
    "        else:\n",
    "            sum -= 1\n",
    "        if sum < 0:\n",
    "            break\n",
    "    if sum == 0:\n",
    "        result = 'Yes'\n",
    "    print(result)"
   ]
  }
 ],
 "metadata": {
  "kernelspec": {
   "display_name": "Python 3",
   "language": "python",
   "name": "python3"
  },
  "language_info": {
   "codemirror_mode": {
    "name": "ipython",
    "version": 3
   },
   "file_extension": ".py",
   "mimetype": "text/x-python",
   "name": "python",
   "nbconvert_exporter": "python",
   "pygments_lexer": "ipython3",
   "version": "3.7.4"
  }
 },
 "nbformat": 4,
 "nbformat_minor": 2
}
