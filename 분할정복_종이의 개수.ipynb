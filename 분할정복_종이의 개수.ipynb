{
 "cells": [
  {
   "cell_type": "code",
   "execution_count": 2,
   "metadata": {},
   "outputs": [
    {
     "name": "stdout",
     "output_type": "stream",
     "text": [
      "9\n",
      "0 0 0 1 1 1 -1 -1 -1\n",
      "0 0 0 1 1 1 -1 -1 -1\n",
      "0 0 0 1 1 1 -1 -1 -1\n",
      "1 1 1 0 0 0 0 0 0\n",
      "1 1 1 0 0 0 0 0 0\n",
      "1 1 1 0 0 0 0 0 0\n",
      "0 1 -1 0 1 -1 0 1 -1\n",
      "0 -1 1 0 1 -1 0 1 -1\n",
      "0 1 -1 1 0 -1 0 1 -1\n",
      "10\n",
      "12\n",
      "11\n"
     ]
    }
   ],
   "source": [
    "n = int(input())\n",
    "arr = []\n",
    "for _ in range(n):\n",
    "    arr.append(list(map(int, input().split())))\n",
    "minus = 0\n",
    "zero = 0\n",
    "plus = 0\n",
    "def nine_tree(x, y, n):\n",
    "    global arr, minus, zero, plus\n",
    "    color = arr[y][x]  \n",
    "    double_break = False  \n",
    "    \n",
    "    for i in range(x, x+n):\n",
    "        if double_break:\n",
    "            break\n",
    "            \n",
    "        for j in range(y, y+n):\n",
    "            if arr[j][i] != color:  \n",
    "                nine_tree(x, y, n//3) \n",
    "                nine_tree(x + n//3, y, n//3)\n",
    "                nine_tree(x + (2*n)//3, y, n//3)\n",
    "\n",
    "                nine_tree(x, y + n//3, n//3)\n",
    "                nine_tree(x + n//3, y + n//3, n//3)\n",
    "                nine_tree(x + (2*n)//3, y + n//3, n//3)\n",
    "                \n",
    "                nine_tree(x, y + (2*n)//3, n//3)\n",
    "                nine_tree(x + n//3, y + (2*n)//3, n//3)\n",
    "                nine_tree(x + (2*n)//3, y + (2*n)//3, n//3)\n",
    "                \n",
    "                double_break = True  \n",
    "                break\n",
    "    \n",
    "    if not double_break:\n",
    "        if arr[y][x] == 1: \n",
    "            plus += 1\n",
    "        elif arr[y][x] == 0:\n",
    "            zero += 1\n",
    "        else:\n",
    "            minus += 1\n",
    "            \n",
    "nine_tree(0,0,n)\n",
    "print(minus)\n",
    "print(zero)\n",
    "print(plus)"
   ]
  }
 ],
 "metadata": {
  "kernelspec": {
   "display_name": "Python 3",
   "language": "python",
   "name": "python3"
  },
  "language_info": {
   "codemirror_mode": {
    "name": "ipython",
    "version": 3
   },
   "file_extension": ".py",
   "mimetype": "text/x-python",
   "name": "python",
   "nbconvert_exporter": "python",
   "pygments_lexer": "ipython3",
   "version": "3.7.4"
  }
 },
 "nbformat": 4,
 "nbformat_minor": 2
}
