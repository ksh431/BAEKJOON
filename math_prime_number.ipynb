{
 "cells": [
  {
   "cell_type": "code",
   "execution_count": 13,
   "metadata": {},
   "outputs": [
    {
     "name": "stdout",
     "output_type": "stream",
     "text": [
      "수의 개수 : 2\n",
      "각 수 입력 : 29 25\n",
      "1\n"
     ]
    },
    {
     "data": {
      "text/plain": [
       "0"
      ]
     },
     "execution_count": 13,
     "metadata": {},
     "output_type": "execute_result"
    }
   ],
   "source": [
    "import math\n",
    "\n",
    "def prime_number():\n",
    "    n = int(input('수의 개수 : '))\n",
    "    arr = list(map(int, input('각 수 입력 : ').split()))\n",
    "    result = 0\n",
    "    for i in arr:\n",
    "        count = 0\n",
    "        if i == 2 or i == 3 or i == 5 or i == 7:\n",
    "            result += 1\n",
    "            continue\n",
    "        for j in range(int(math.sqrt(i))):\n",
    "            if j == 0:\n",
    "                continue\n",
    "            if i%j==0:\n",
    "                count += 1\n",
    "                if count > 1:\n",
    "                    count = 0\n",
    "                    break\n",
    "            count += 1\n",
    "            if int(math.sqrt(i)) == math.sqrt(i):\n",
    "                count -= 1\n",
    "        if count > 1:\n",
    "            result += 1\n",
    "    print(result)\n",
    "    return 0\n",
    "\n",
    "prime_number()\n",
    "        "
   ]
  }
 ],
 "metadata": {
  "kernelspec": {
   "display_name": "Python 3",
   "language": "python",
   "name": "python3"
  },
  "language_info": {
   "codemirror_mode": {
    "name": "ipython",
    "version": 3
   },
   "file_extension": ".py",
   "mimetype": "text/x-python",
   "name": "python",
   "nbconvert_exporter": "python",
   "pygments_lexer": "ipython3",
   "version": "3.7.4"
  }
 },
 "nbformat": 4,
 "nbformat_minor": 2
}
