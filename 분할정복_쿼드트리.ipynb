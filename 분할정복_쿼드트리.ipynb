{
 "cells": [
  {
   "cell_type": "code",
   "execution_count": 7,
   "metadata": {},
   "outputs": [
    {
     "name": "stdout",
     "output_type": "stream",
     "text": [
      "8\n",
      "11110000\n",
      "11110000\n",
      "00011100\n",
      "00011100\n",
      "11110000\n",
      "11110000\n",
      "11110011\n",
      "11110011\n",
      "((110(0101)(0010)1(0001))\n"
     ]
    }
   ],
   "source": [
    "n = int(input())\n",
    "arr = []\n",
    "for _ in range(n):\n",
    "    arr.append(list(input()))\n",
    "result = ''\n",
    "def quad_tree(x, y, n):\n",
    "    global arr,result\n",
    "    color = arr[y][x]  \n",
    "    double_break = False  \n",
    "    \n",
    "    for i in range(x, x+n):\n",
    "        if double_break:\n",
    "            result += ')'\n",
    "            break\n",
    "            \n",
    "        for j in range(y, y+n):\n",
    "            if arr[j][i] != color:  \n",
    "                result += '('\n",
    "                quad_tree(x, y, n//2) \n",
    "                quad_tree(x + n//2, y, n//2)  \n",
    "                quad_tree(x, y + n//2, n//2) \n",
    "                quad_tree(x + n//2, y + n//2, n//2)  \n",
    "                double_break = True  \n",
    "                break\n",
    "    \n",
    "    if not double_break:\n",
    "        if arr[y][x] == '1': \n",
    "            result += '1'\n",
    "        else:\n",
    "            result += '0'\n",
    "            \n",
    "quad_tree(0,0,n)\n",
    "print(result)"
   ]
  },
  {
   "cell_type": "code",
   "execution_count": null,
   "metadata": {},
   "outputs": [],
   "source": []
  }
 ],
 "metadata": {
  "kernelspec": {
   "display_name": "Python 3",
   "language": "python",
   "name": "python3"
  },
  "language_info": {
   "codemirror_mode": {
    "name": "ipython",
    "version": 3
   },
   "file_extension": ".py",
   "mimetype": "text/x-python",
   "name": "python",
   "nbconvert_exporter": "python",
   "pygments_lexer": "ipython3",
   "version": "3.7.4"
  }
 },
 "nbformat": 4,
 "nbformat_minor": 2
}
