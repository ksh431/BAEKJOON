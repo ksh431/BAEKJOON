{
 "cells": [
  {
   "cell_type": "code",
   "execution_count": 5,
   "metadata": {},
   "outputs": [
    {
     "name": "stdout",
     "output_type": "stream",
     "text": [
      "문자열 입력 : baaa\n",
      "A\n"
     ]
    },
    {
     "data": {
      "text/plain": [
       "0"
      ]
     },
     "execution_count": 5,
     "metadata": {},
     "output_type": "execute_result"
    }
   ],
   "source": [
    "def find_alpha():\n",
    "    alpha = input('문자열 입력 : ')\n",
    "    alpha = alpha.upper()\n",
    "    max = 0\n",
    "    max_al = 0\n",
    "    stk = 0\n",
    "    for i in range(26):\n",
    "        num_al = alpha.count(chr(i+65))\n",
    "        if max < num_al:\n",
    "            max = num_al\n",
    "            max_al = i\n",
    "            stk = 0\n",
    "        elif max == num_al:\n",
    "            stk += 1\n",
    "    if stk > 0:\n",
    "        print('?')\n",
    "    else:\n",
    "        print(chr(max_al+65))\n",
    "    return 0\n",
    "\n",
    "find_alpha()\n"
   ]
  },
  {
   "cell_type": "code",
   "execution_count": null,
   "metadata": {},
   "outputs": [],
   "source": []
  }
 ],
 "metadata": {
  "kernelspec": {
   "display_name": "Python 3",
   "language": "python",
   "name": "python3"
  },
  "language_info": {
   "codemirror_mode": {
    "name": "ipython",
    "version": 3
   },
   "file_extension": ".py",
   "mimetype": "text/x-python",
   "name": "python",
   "nbconvert_exporter": "python",
   "pygments_lexer": "ipython3",
   "version": "3.7.4"
  }
 },
 "nbformat": 4,
 "nbformat_minor": 2
}
