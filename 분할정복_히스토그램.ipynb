{
 "cells": [
  {
   "cell_type": "code",
   "execution_count": 2,
   "metadata": {},
   "outputs": [
    {
     "name": "stdout",
     "output_type": "stream",
     "text": [
      "7 2 1 4 5 1 3 3\n",
      "[7, 2, 1, 4, 5, 1, 3, 3, 0]\n",
      "8\n",
      "0\n",
      "[0, 0]\n"
     ]
    }
   ],
   "source": [
    "while True:\n",
    "  n=list(map(int,input().split()))+[0]\n",
    "  N=n[0]\n",
    "  if N==0:\n",
    "    break\n",
    "  arr=[(1,n[1])]\n",
    "  answer=0\n",
    "  for i in range(2,N+2):\n",
    "    cur=i\n",
    "    while arr and arr[-1][1]>n[i]:\n",
    "      cur,h=arr.pop()\n",
    "      answer=max(answer,(i-cur)*h)\n",
    "    arr.append((cur,n[i]))\n",
    "  print(answer)\n",
    "\n"
   ]
  }
 ],
 "metadata": {
  "kernelspec": {
   "display_name": "Python 3",
   "language": "python",
   "name": "python3"
  },
  "language_info": {
   "codemirror_mode": {
    "name": "ipython",
    "version": 3
   },
   "file_extension": ".py",
   "mimetype": "text/x-python",
   "name": "python",
   "nbconvert_exporter": "python",
   "pygments_lexer": "ipython3",
   "version": "3.7.4"
  }
 },
 "nbformat": 4,
 "nbformat_minor": 2
}
