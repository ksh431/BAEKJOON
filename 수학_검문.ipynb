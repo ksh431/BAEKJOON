{
 "cells": [
  {
   "cell_type": "code",
   "execution_count": 1,
   "metadata": {},
   "outputs": [
    {
     "name": "stdout",
     "output_type": "stream",
     "text": [
      "3\n",
      "6\n",
      "34\n",
      "38\n",
      "2 4\n"
     ]
    }
   ],
   "source": [
    "N = int(input())\n",
    "arr = []\n",
    "result = []\n",
    "for i in range(N):\n",
    "    arr.append(int(input()))\n",
    "for i in range(2, max(arr)):\n",
    "    temp = []\n",
    "    for j in range(N):\n",
    "        temp.append(arr[j]%i)\n",
    "    temp = set(temp)\n",
    "    if len(temp) == 1:\n",
    "        result.append(i)\n",
    "print(\" \".join(map(str, result)))"
   ]
  }
 ],
 "metadata": {
  "kernelspec": {
   "display_name": "Python 3",
   "language": "python",
   "name": "python3"
  },
  "language_info": {
   "codemirror_mode": {
    "name": "ipython",
    "version": 3
   },
   "file_extension": ".py",
   "mimetype": "text/x-python",
   "name": "python",
   "nbconvert_exporter": "python",
   "pygments_lexer": "ipython3",
   "version": "3.7.4"
  }
 },
 "nbformat": 4,
 "nbformat_minor": 2
}
