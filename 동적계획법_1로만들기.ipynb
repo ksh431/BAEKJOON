{
 "cells": [
  {
   "cell_type": "code",
   "execution_count": 5,
   "metadata": {},
   "outputs": [
    {
     "name": "stdout",
     "output_type": "stream",
     "text": [
      "15\n",
      "4\n"
     ]
    }
   ],
   "source": [
    "n = int(input())\n",
    "cal_min = 1000000\n",
    "def cal_num(a, c):\n",
    "    global cal_min\n",
    "    \n",
    "    if a == 1:\n",
    "        if c < cal_min:\n",
    "            cal_min = c\n",
    "        return\n",
    "    else:\n",
    "        for i in range(3):\n",
    "            temp = a\n",
    "            count = c\n",
    "            if a%3 == 0 and i == 0:\n",
    "                temp = a//3 \n",
    "                count += 1\n",
    "                cal_num(temp, count)\n",
    "            elif a%2 == 0 and i == 1:\n",
    "                temp = a//2\n",
    "                count += 1\n",
    "                cal_num(temp, count)\n",
    "            elif i == 2:\n",
    "                temp -= 1\n",
    "                count += 1\n",
    "                cal_num(temp, count)\n",
    "        \n",
    "cal_num(n, 0)\n",
    "print(cal_min)"
   ]
  }
 ],
 "metadata": {
  "kernelspec": {
   "display_name": "Python 3",
   "language": "python",
   "name": "python3"
  },
  "language_info": {
   "codemirror_mode": {
    "name": "ipython",
    "version": 3
   },
   "file_extension": ".py",
   "mimetype": "text/x-python",
   "name": "python",
   "nbconvert_exporter": "python",
   "pygments_lexer": "ipython3",
   "version": "3.7.4"
  }
 },
 "nbformat": 4,
 "nbformat_minor": 2
}
