{
 "cells": [
  {
   "cell_type": "code",
   "execution_count": 1,
   "metadata": {},
   "outputs": [
    {
     "name": "stdout",
     "output_type": "stream",
     "text": [
      "5\n",
      "-1 -2 -3 -4 -5\n",
      "-1\n"
     ]
    }
   ],
   "source": [
    "n = int(input())\n",
    "arr = list(map(int, input().split()))\n",
    "m_sum = -100000000\n",
    "\n",
    "def comparison(m):\n",
    "    global m_sum\n",
    "    if m_sum < m:\n",
    "        m_sum = m\n",
    "    return\n",
    "    \n",
    "def chain(x):\n",
    "    if x == n:\n",
    "        return\n",
    "    temp = 0\n",
    "    for i in range(x, n):\n",
    "        temp += arr[i]\n",
    "        comparison(temp)\n",
    "        chain(x+1)\n",
    "\n",
    "chain(0)\n",
    "print(m_sum)"
   ]
  }
 ],
 "metadata": {
  "kernelspec": {
   "display_name": "Python 3",
   "language": "python",
   "name": "python3"
  },
  "language_info": {
   "codemirror_mode": {
    "name": "ipython",
    "version": 3
   },
   "file_extension": ".py",
   "mimetype": "text/x-python",
   "name": "python",
   "nbconvert_exporter": "python",
   "pygments_lexer": "ipython3",
   "version": "3.7.4"
  }
 },
 "nbformat": 4,
 "nbformat_minor": 2
}
