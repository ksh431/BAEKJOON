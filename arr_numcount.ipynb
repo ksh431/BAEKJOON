{
 "cells": [
  {
   "cell_type": "code",
   "execution_count": 12,
   "metadata": {},
   "outputs": [
    {
     "name": "stdout",
     "output_type": "stream",
     "text": [
      "100보다 크거나 같고 1000보다 작은 자연수 1을 입력하시오 : 150\n",
      "100보다 크거나 같고 1000보다 작은 자연수 2를 입력하시오 : 266\n",
      "100보다 크거나 같고 1000보다 작은 자연수 3을 입력하시오 : 427\n",
      "[1, 7, 0, 3, 7, 3, 0, 0]\n",
      "3\n",
      "1\n",
      "0\n",
      "2\n",
      "0\n",
      "0\n",
      "0\n",
      "2\n",
      "0\n",
      "0\n"
     ]
    }
   ],
   "source": [
    "def numcount():\n",
    "    A = int(input('100보다 크거나 같고 1000보다 작은 자연수 1을 입력하시오 : '))\n",
    "    B = int(input('100보다 크거나 같고 1000보다 작은 자연수 2를 입력하시오 : '))\n",
    "    C = int(input('100보다 크거나 같고 1000보다 작은 자연수 3을 입력하시오 : '))\n",
    "    num = A*B*C\n",
    "    num = str(num)\n",
    "    lst = [int(i) for i in num]\n",
    "    result = [0,0,0,0,0,0,0,0,0,0]\n",
    "    for i in range(10):\n",
    "        if i in lst:\n",
    "            for j in range (len(num)):\n",
    "                if lst[j] == i:\n",
    "                    result[i] = result[i] + 1\n",
    "    for i in range(10):\n",
    "        print(result[i])\n",
    "\n",
    "numcount()"
   ]
  }
 ],
 "metadata": {
  "kernelspec": {
   "display_name": "Python 3",
   "language": "python",
   "name": "python3"
  },
  "language_info": {
   "codemirror_mode": {
    "name": "ipython",
    "version": 3
   },
   "file_extension": ".py",
   "mimetype": "text/x-python",
   "name": "python",
   "nbconvert_exporter": "python",
   "pygments_lexer": "ipython3",
   "version": "3.7.4"
  }
 },
 "nbformat": 4,
 "nbformat_minor": 2
}
