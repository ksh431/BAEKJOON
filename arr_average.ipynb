{
 "cells": [
  {
   "cell_type": "code",
   "execution_count": 5,
   "metadata": {},
   "outputs": [
    {
     "name": "stdout",
     "output_type": "stream",
     "text": [
      "시험 과목 개수를 입력하시오 : 3\n",
      "각 과목의 점수를 입력하시오 : 10 20 30\n",
      "66.66666666666667\n"
     ]
    },
    {
     "data": {
      "text/plain": [
       "0"
      ]
     },
     "execution_count": 5,
     "metadata": {},
     "output_type": "execute_result"
    }
   ],
   "source": [
    "def average():\n",
    "    num = int(input('시험 과목 개수를 입력하시오 : '))\n",
    "    lst = list(map(int, input('각 과목의 점수를 입력하시오 : ').split()))\n",
    "    max = 0\n",
    "    total = 0\n",
    "    for i in range(num):\n",
    "        if lst[i] > max:\n",
    "            max = lst[i]\n",
    "    for i in range(num):\n",
    "        total += lst[i]/max*100\n",
    "    ave = total/num\n",
    "    print(ave)\n",
    "    return 0\n",
    "\n",
    "average()"
   ]
  }
 ],
 "metadata": {
  "kernelspec": {
   "display_name": "Python 3",
   "language": "python",
   "name": "python3"
  },
  "language_info": {
   "codemirror_mode": {
    "name": "ipython",
    "version": 3
   },
   "file_extension": ".py",
   "mimetype": "text/x-python",
   "name": "python",
   "nbconvert_exporter": "python",
   "pygments_lexer": "ipython3",
   "version": "3.7.4"
  }
 },
 "nbformat": 4,
 "nbformat_minor": 2
}
