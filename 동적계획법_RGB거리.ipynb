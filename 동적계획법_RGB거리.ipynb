{
 "cells": [
  {
   "cell_type": "code",
   "execution_count": 8,
   "metadata": {},
   "outputs": [
    {
     "name": "stdout",
     "output_type": "stream",
     "text": [
      "3\n",
      "26 40 83\n",
      "49 60 57\n",
      "13 89 99\n",
      "96\n"
     ]
    }
   ],
   "source": [
    "n = int(input())\n",
    "arr = []\n",
    "for i in range (n):\n",
    "    arr.append(list(map(int, input().split())))\n",
    "answer = 1000000\n",
    "\n",
    "def rgb(x, c, r):\n",
    "    global answer\n",
    "    if x == n:\n",
    "        if r < answer:\n",
    "            answer = r\n",
    "        return\n",
    "    else:\n",
    "        for i in range(3):\n",
    "            if c == i:\n",
    "                continue\n",
    "            res = r\n",
    "            res += arr[x][i]\n",
    "            rgb(x+1, i, res)\n",
    "            \n",
    "rgb(0, -1, 0)\n",
    "print(answer)"
   ]
  }
 ],
 "metadata": {
  "kernelspec": {
   "display_name": "Python 3",
   "language": "python",
   "name": "python3"
  },
  "language_info": {
   "codemirror_mode": {
    "name": "ipython",
    "version": 3
   },
   "file_extension": ".py",
   "mimetype": "text/x-python",
   "name": "python",
   "nbconvert_exporter": "python",
   "pygments_lexer": "ipython3",
   "version": "3.7.4"
  }
 },
 "nbformat": 4,
 "nbformat_minor": 2
}
