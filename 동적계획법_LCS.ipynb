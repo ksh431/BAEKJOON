{
 "cells": [
  {
   "cell_type": "code",
   "execution_count": 2,
   "metadata": {},
   "outputs": [
    {
     "name": "stdout",
     "output_type": "stream",
     "text": [
      "CAPCAK\n",
      "ACAYKP\n",
      "4\n"
     ]
    }
   ],
   "source": [
    "A = input()\n",
    "B = input()\n",
    "            \n",
    "arr = [[0 for _ in range(len(A) + 1)] for _ in range(len(B) + 1)]\n",
    "answer = 0\n",
    "\n",
    "for i in range(len(A)):\n",
    "    for j in range(len(B)):\n",
    "        if A[i] == B[j]:\n",
    "            arr[j+1][i+1] = arr[j][i] + 1\n",
    "            answer = max(answer, arr[j+1][i+1])\n",
    "        else:\n",
    "            arr[j+1][i+1] = max(arr[j][i+1], arr[j+1][i])\n",
    "\n",
    "print(answer)"
   ]
  }
 ],
 "metadata": {
  "kernelspec": {
   "display_name": "Python 3",
   "language": "python",
   "name": "python3"
  },
  "language_info": {
   "codemirror_mode": {
    "name": "ipython",
    "version": 3
   },
   "file_extension": ".py",
   "mimetype": "text/x-python",
   "name": "python",
   "nbconvert_exporter": "python",
   "pygments_lexer": "ipython3",
   "version": "3.7.4"
  }
 },
 "nbformat": 4,
 "nbformat_minor": 2
}
