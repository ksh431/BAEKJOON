{
 "cells": [
  {
   "cell_type": "code",
   "execution_count": 1,
   "metadata": {},
   "outputs": [
    {
     "name": "stdout",
     "output_type": "stream",
     "text": [
      "테스트 케이스 개수 : 2\n",
      "층 수 : 1\n",
      "호 수 : 3\n",
      "층 수 : 2\n",
      "호 수 : 3\n",
      "6\n",
      "10\n"
     ]
    },
    {
     "data": {
      "text/plain": [
       "0"
      ]
     },
     "execution_count": 1,
     "metadata": {},
     "output_type": "execute_result"
    }
   ],
   "source": [
    "def room():\n",
    "    T = int(input('테스트 케이스 개수 : '))\n",
    "    result_lst = []\n",
    "    for i in range(T):\n",
    "        k = int(input('층 수 : '))\n",
    "        n = int(input('호 수 : '))\n",
    "        floor_lst = []\n",
    "        lst = []\n",
    "        for i in range(k):    \n",
    "            temp = 0\n",
    "            for j in range(n):\n",
    "                floor_lst.append(j+1)\n",
    "            for j in range(n):\n",
    "                temp_lst = floor_lst\n",
    "                temp += temp_lst[j]\n",
    "                floor_lst[j] = temp\n",
    "        result_lst.append(floor_lst[n-1])\n",
    "    for i in result_lst:\n",
    "        print(i)\n",
    "    return 0\n",
    "\n",
    "room()\n",
    "                "
   ]
  }
 ],
 "metadata": {
  "kernelspec": {
   "display_name": "Python 3",
   "language": "python",
   "name": "python3"
  },
  "language_info": {
   "codemirror_mode": {
    "name": "ipython",
    "version": 3
   },
   "file_extension": ".py",
   "mimetype": "text/x-python",
   "name": "python",
   "nbconvert_exporter": "python",
   "pygments_lexer": "ipython3",
   "version": "3.7.4"
  }
 },
 "nbformat": 4,
 "nbformat_minor": 2
}
