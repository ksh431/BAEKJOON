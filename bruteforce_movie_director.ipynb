{
 "cells": [
  {
   "cell_type": "code",
   "execution_count": 6,
   "metadata": {},
   "outputs": [
    {
     "name": "stdout",
     "output_type": "stream",
     "text": [
      "영화 번수 : 68\n",
      "66667\n"
     ]
    },
    {
     "data": {
      "text/plain": [
       "0"
      ]
     },
     "execution_count": 6,
     "metadata": {},
     "output_type": "execute_result"
    }
   ],
   "source": [
    "def moive_name():\n",
    "    N = int(input('영화 번수 : '))\n",
    "    result = 0\n",
    "    a = '666'\n",
    "    \n",
    "    if 6<N<11:\n",
    "        result = int(a+str(N-1))\n",
    "    elif 66<N<101:\n",
    "        result = int(a+str(N-1))\n",
    "    elif 666<N<1001:\n",
    "        result = int(a+str(N-1))\n",
    "    elif 6666<N<10001:\n",
    "        result = int(a+str(N-1))\n",
    "    else: \n",
    "        result = int(str(N-1)+a)\n",
    "    print(result)\n",
    "    return 0\n",
    "\n",
    "moive_name()\n",
    "        "
   ]
  }
 ],
 "metadata": {
  "kernelspec": {
   "display_name": "Python 3",
   "language": "python",
   "name": "python3"
  },
  "language_info": {
   "codemirror_mode": {
    "name": "ipython",
    "version": 3
   },
   "file_extension": ".py",
   "mimetype": "text/x-python",
   "name": "python",
   "nbconvert_exporter": "python",
   "pygments_lexer": "ipython3",
   "version": "3.7.4"
  }
 },
 "nbformat": 4,
 "nbformat_minor": 2
}
