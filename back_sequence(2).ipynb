{
 "cells": [
  {
   "cell_type": "code",
   "execution_count": 5,
   "metadata": {},
   "outputs": [
    {
     "name": "stdout",
     "output_type": "stream",
     "text": [
      "4 2\n",
      "1 2\n",
      "1 3\n",
      "1 4\n",
      "2 3\n",
      "2 4\n",
      "3 4\n"
     ]
    }
   ],
   "source": [
    "n, m = map(int, input().split())\n",
    "\n",
    "num_list = [i + 1 for i in range(n)]\n",
    "check_list = [False]*n\n",
    "\n",
    "arr = []\n",
    "\n",
    "def dfs(cnt):\n",
    "    if(cnt == m):\n",
    "        print(*arr)\n",
    "        return\n",
    "    for i in range(0, n):\n",
    "        if(check_list[i]):\n",
    "            continue\n",
    "        check_list[i] = True\n",
    "        arr.append(num_list[i])\n",
    "        dfs(cnt + 1)\n",
    "        arr.pop()\n",
    "        for j in range(i+1, n):\n",
    "            check_list[j] = False\n",
    "dfs(0)"
   ]
  }
 ],
 "metadata": {
  "kernelspec": {
   "display_name": "Python 3",
   "language": "python",
   "name": "python3"
  },
  "language_info": {
   "codemirror_mode": {
    "name": "ipython",
    "version": 3
   },
   "file_extension": ".py",
   "mimetype": "text/x-python",
   "name": "python",
   "nbconvert_exporter": "python",
   "pygments_lexer": "ipython3",
   "version": "3.7.4"
  }
 },
 "nbformat": 4,
 "nbformat_minor": 2
}
