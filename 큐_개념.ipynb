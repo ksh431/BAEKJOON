{
 "cells": [
  {
   "cell_type": "code",
   "execution_count": 1,
   "metadata": {},
   "outputs": [
    {
     "name": "stdout",
     "output_type": "stream",
     "text": [
      "15\n",
      "push 1\n",
      "push 2\n",
      "front\n",
      "1\n",
      "back\n",
      "2\n",
      "sizze\n",
      "size\n",
      "2\n",
      "empty\n",
      "0\n",
      "pop\n",
      "1\n",
      "pop\n",
      "2\n",
      "pop\n",
      "-1\n",
      "size\n",
      "0\n",
      "empty\n",
      "1\n",
      "pop\n",
      "-1\n",
      "push 3\n",
      "empty\n",
      "0\n"
     ]
    }
   ],
   "source": [
    "n = int(input())\n",
    "arr = []\n",
    "stack = [] \n",
    "for i in range(n):\n",
    "    arr.append(list(input().split()))\n",
    "    if arr[i][0] == 'push':\n",
    "        stack.append(int(arr[i][1]))\n",
    "    elif arr[i][0] == 'back':\n",
    "        if len(stack) == 0:\n",
    "            print(-1)\n",
    "            continue\n",
    "        print(stack[-1])\n",
    "    elif arr[i][0] == 'front':\n",
    "        if len(stack) == 0:\n",
    "            print(-1)\n",
    "            continue\n",
    "        print(stack[0])    \n",
    "    elif arr[i][0] == 'pop':\n",
    "        if len(stack) == 0:\n",
    "            print(-1)\n",
    "            continue\n",
    "        print(stack[0])\n",
    "        del stack[0]\n",
    "    elif arr[i][0] == 'size':\n",
    "        print(len(stack))\n",
    "    elif arr[i][0] == 'empty':\n",
    "        if len(stack) == 0:\n",
    "            print(1)\n",
    "            continue\n",
    "        print(0)"
   ]
  }
 ],
 "metadata": {
  "kernelspec": {
   "display_name": "Python 3",
   "language": "python",
   "name": "python3"
  },
  "language_info": {
   "codemirror_mode": {
    "name": "ipython",
    "version": 3
   },
   "file_extension": ".py",
   "mimetype": "text/x-python",
   "name": "python",
   "nbconvert_exporter": "python",
   "pygments_lexer": "ipython3",
   "version": "3.7.4"
  }
 },
 "nbformat": 4,
 "nbformat_minor": 2
}
