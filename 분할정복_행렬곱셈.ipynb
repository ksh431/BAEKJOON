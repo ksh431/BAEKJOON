{
 "cells": [
  {
   "cell_type": "code",
   "execution_count": 7,
   "metadata": {},
   "outputs": [
    {
     "name": "stdout",
     "output_type": "stream",
     "text": [
      "3 2\n",
      "1 2\n",
      "3 4\n",
      "5 6\n",
      "2 3\n",
      "-1 -2 0\n",
      "0 0 3\n",
      "-1 -2 6 \n",
      "-3 -6 12 \n",
      "-5 -10 18 \n"
     ]
    }
   ],
   "source": [
    "an, am = map(int, input().split())\n",
    "a_arr = []\n",
    "for _ in range(an):\n",
    "    a_arr.append(list(map(int, input().split())))\n",
    "    \n",
    "bn, bm = map(int, input().split())\n",
    "b_arr = []\n",
    "for _ in range(bn):\n",
    "    b_arr.append(list(map(int, input().split())))\n",
    "    \n",
    "r_arr = []\n",
    "for i in range(an):\n",
    "    row = []\n",
    "    count = 0\n",
    "    for k in range(bm):\n",
    "        entry = 0\n",
    "        for j in range(bn):\n",
    "            entry += a_arr[i][j]*b_arr[j][k]\n",
    "        row.append(entry)\n",
    "    r_arr.append(row)\n",
    "\n",
    "for i in r_arr:\n",
    "    for j in i:\n",
    "        print(j, end= ' ')\n",
    "    print('')\n",
    "        "
   ]
  }
 ],
 "metadata": {
  "kernelspec": {
   "display_name": "Python 3",
   "language": "python",
   "name": "python3"
  },
  "language_info": {
   "codemirror_mode": {
    "name": "ipython",
    "version": 3
   },
   "file_extension": ".py",
   "mimetype": "text/x-python",
   "name": "python",
   "nbconvert_exporter": "python",
   "pygments_lexer": "ipython3",
   "version": "3.7.4"
  }
 },
 "nbformat": 4,
 "nbformat_minor": 2
}
