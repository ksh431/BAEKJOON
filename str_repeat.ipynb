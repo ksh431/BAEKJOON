{
 "cells": [
  {
   "cell_type": "code",
   "execution_count": 13,
   "metadata": {},
   "outputs": [
    {
     "name": "stdout",
     "output_type": "stream",
     "text": [
      "테스트 케이스 개수 : 2\n",
      "반복 회수와 문자열 입력 : 3 ABC\n",
      "반복 회수와 문자열 입력 : 5 /HTP\n",
      "AAABBBCCC\n",
      "/////HHHHHTTTTTPPPPP\n"
     ]
    }
   ],
   "source": [
    "def repeat():\n",
    "    num = int(input(\"테스트 케이스 개수 : \"))\n",
    "    lst = []\n",
    "    for i in range(num):\n",
    "        lst.append(input(\"반복 회수와 문자열 입력 : \").split())\n",
    "    for i in range(num):\n",
    "        re_str = \"\"\n",
    "        for j in lst[i][1]:\n",
    "            re_str += j*int(lst[i][0])\n",
    "        print(re_str)\n",
    "\n",
    "repeat()"
   ]
  },
  {
   "cell_type": "code",
   "execution_count": null,
   "metadata": {},
   "outputs": [],
   "source": []
  },
  {
   "cell_type": "code",
   "execution_count": null,
   "metadata": {},
   "outputs": [],
   "source": []
  }
 ],
 "metadata": {
  "kernelspec": {
   "display_name": "Python 3",
   "language": "python",
   "name": "python3"
  },
  "language_info": {
   "codemirror_mode": {
    "name": "ipython",
    "version": 3
   },
   "file_extension": ".py",
   "mimetype": "text/x-python",
   "name": "python",
   "nbconvert_exporter": "python",
   "pygments_lexer": "ipython3",
   "version": "3.7.4"
  }
 },
 "nbformat": 4,
 "nbformat_minor": 2
}
