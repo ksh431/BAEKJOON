{
 "cells": [
  {
   "cell_type": "code",
   "execution_count": 2,
   "metadata": {},
   "outputs": [
    {
     "name": "stdout",
     "output_type": "stream",
     "text": [
      "세자리 정수 두개 입력 : 734 893\n",
      "437\n"
     ]
    },
    {
     "data": {
      "text/plain": [
       "0"
      ]
     },
     "execution_count": 2,
     "metadata": {},
     "output_type": "execute_result"
    }
   ],
   "source": [
    "def reverse():\n",
    "    num1, num2 = map(str, input(\"세자리 정수 두개 입력 : \").split())\n",
    "    min = \"\"\n",
    "    result = \"\"\n",
    "    for i in range(3):\n",
    "        if num1[2-i]>num2[2-i]:\n",
    "            min = num1\n",
    "            break\n",
    "        elif num2[2-i]>num1[2-i]:\n",
    "            min = num2\n",
    "            break\n",
    "    if min == \"\":\n",
    "        min = num1\n",
    "    \n",
    "    for i in range(3):\n",
    "        result += min[2-i]\n",
    "    print(result)\n",
    "    return 0\n",
    "\n",
    "reverse()   "
   ]
  }
 ],
 "metadata": {
  "kernelspec": {
   "display_name": "Python 3",
   "language": "python",
   "name": "python3"
  },
  "language_info": {
   "codemirror_mode": {
    "name": "ipython",
    "version": 3
   },
   "file_extension": ".py",
   "mimetype": "text/x-python",
   "name": "python",
   "nbconvert_exporter": "python",
   "pygments_lexer": "ipython3",
   "version": "3.7.4"
  }
 },
 "nbformat": 4,
 "nbformat_minor": 2
}
