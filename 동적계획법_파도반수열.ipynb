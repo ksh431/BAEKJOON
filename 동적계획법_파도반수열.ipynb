{
 "cells": [
  {
   "cell_type": "code",
   "execution_count": 3,
   "metadata": {},
   "outputs": [
    {
     "name": "stdout",
     "output_type": "stream",
     "text": [
      "2\n",
      "6\n",
      "12\n",
      "3\n",
      "16\n"
     ]
    }
   ],
   "source": [
    "t = int(input())\n",
    "ans = []\n",
    "\n",
    "def sequence(x):\n",
    "    if x == 1 or x == 2 or x == 3:\n",
    "        return 1\n",
    "    else:\n",
    "        return sequence(x-3) + sequence(x-2)\n",
    "for i in range(t):\n",
    "    n = int(input())\n",
    "    ans.append(sequence(n))\n",
    "    \n",
    "for i in ans:\n",
    "    print(i)"
   ]
  },
  {
   "cell_type": "code",
   "execution_count": null,
   "metadata": {},
   "outputs": [],
   "source": []
  }
 ],
 "metadata": {
  "kernelspec": {
   "display_name": "Python 3",
   "language": "python",
   "name": "python3"
  },
  "language_info": {
   "codemirror_mode": {
    "name": "ipython",
    "version": 3
   },
   "file_extension": ".py",
   "mimetype": "text/x-python",
   "name": "python",
   "nbconvert_exporter": "python",
   "pygments_lexer": "ipython3",
   "version": "3.7.4"
  }
 },
 "nbformat": 4,
 "nbformat_minor": 2
}
