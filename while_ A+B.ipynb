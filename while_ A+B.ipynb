{
 "cells": [
  {
   "cell_type": "code",
   "execution_count": 3,
   "metadata": {},
   "outputs": [
    {
     "name": "stdout",
     "output_type": "stream",
     "text": [
      "더할 두 수를 입력 하세요 : 1 1\n",
      "2\n",
      "더할 두 수를 입력 하세요 : 2 3\n",
      "5\n",
      "더할 두 수를 입력 하세요 : 3 4\n",
      "7\n",
      "더할 두 수를 입력 하세요 : 9 8\n",
      "17\n",
      "더할 두 수를 입력 하세요 : 5 2\n",
      "7\n",
      "더할 두 수를 입력 하세요 : 0 0\n"
     ]
    },
    {
     "data": {
      "text/plain": [
       "0"
      ]
     },
     "execution_count": 3,
     "metadata": {},
     "output_type": "execute_result"
    }
   ],
   "source": [
    "def plus():\n",
    "    while True:\n",
    "        A, B = map(int, input('더할 두 수를 입력 하세요 : ').split())\n",
    "        if A+B==0:\n",
    "            break\n",
    "        print(A+B)\n",
    "    return 0\n",
    "\n",
    "plus()    "
   ]
  },
  {
   "cell_type": "code",
   "execution_count": null,
   "metadata": {},
   "outputs": [],
   "source": []
  }
 ],
 "metadata": {
  "kernelspec": {
   "display_name": "Python 3",
   "language": "python",
   "name": "python3"
  },
  "language_info": {
   "codemirror_mode": {
    "name": "ipython",
    "version": 3
   },
   "file_extension": ".py",
   "mimetype": "text/x-python",
   "name": "python",
   "nbconvert_exporter": "python",
   "pygments_lexer": "ipython3",
   "version": "3.7.4"
  }
 },
 "nbformat": 4,
 "nbformat_minor": 2
}
