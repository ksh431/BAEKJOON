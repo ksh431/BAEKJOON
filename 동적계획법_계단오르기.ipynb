{
 "cells": [
  {
   "cell_type": "code",
   "execution_count": 25,
   "metadata": {
    "scrolled": true
   },
   "outputs": [
    {
     "name": "stdout",
     "output_type": "stream",
     "text": [
      "6\n",
      "10\n",
      "20\n",
      "15\n",
      "25\n",
      "10\n",
      "20\n",
      "75\n"
     ]
    }
   ],
   "source": [
    "n = int(input())\n",
    "arr = []\n",
    "for i in range(n):\n",
    "    arr.append(int(input()))\n",
    "max_n = 0\n",
    "stk = 0\n",
    "def step(x, c, r):\n",
    "    global max_n\n",
    "    global stk\n",
    "    if x == n:\n",
    "        if max_n < r:\n",
    "            max_n = r\n",
    "        return\n",
    "    \n",
    "    else: \n",
    "        for i in range(x-1, x+1):\n",
    "            res = r\n",
    "            if i == c+1 and stk < 2:\n",
    "                stk += 1\n",
    "                res += arr[i]\n",
    "                step(x+1, i, res)\n",
    "            elif i == c+2 and i < n:\n",
    "                stk = 1\n",
    "                res += arr[i]\n",
    "                step(x+1, i, res)\n",
    "            else:\n",
    "                step(x+1, i, res)\n",
    "\n",
    "step(1, -1, 0)\n",
    "print(max_n)"
   ]
  }
 ],
 "metadata": {
  "kernelspec": {
   "display_name": "Python 3",
   "language": "python",
   "name": "python3"
  },
  "language_info": {
   "codemirror_mode": {
    "name": "ipython",
    "version": 3
   },
   "file_extension": ".py",
   "mimetype": "text/x-python",
   "name": "python",
   "nbconvert_exporter": "python",
   "pygments_lexer": "ipython3",
   "version": "3.7.4"
  }
 },
 "nbformat": 4,
 "nbformat_minor": 2
}
