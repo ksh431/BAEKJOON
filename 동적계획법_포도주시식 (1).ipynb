{
 "cells": [
  {
   "cell_type": "code",
   "execution_count": 37,
   "metadata": {
    "scrolled": true
   },
   "outputs": [
    {
     "name": "stdout",
     "output_type": "stream",
     "text": [
      "6\n",
      "6\n",
      "10\n",
      "13\n",
      "9\n",
      "8\n",
      "1\n",
      "33\n",
      "26\n",
      "25\n",
      "25\n",
      "24\n",
      "17\n",
      "16\n",
      "29\n",
      "28\n",
      "28\n",
      "27\n",
      "20\n",
      "19\n",
      "23\n",
      "16\n",
      "15\n",
      "15\n",
      "14\n",
      "7\n",
      "6\n",
      "32\n",
      "31\n",
      "24\n",
      "23\n",
      "27\n",
      "20\n",
      "19\n",
      "19\n",
      "18\n",
      "11\n",
      "10\n",
      "23\n",
      "22\n",
      "22\n",
      "21\n",
      "14\n",
      "13\n",
      "17\n",
      "10\n",
      "9\n",
      "9\n",
      "8\n",
      "1\n",
      "0\n",
      "33\n"
     ]
    }
   ],
   "source": [
    "n = int(input())\n",
    "arr = []\n",
    "for i in range(n):\n",
    "    arr.append(int(input()))\n",
    "\n",
    "result = 0\n",
    "def max_drink(x, r, c):\n",
    "    global result\n",
    "    \n",
    "    if x == n:\n",
    "        print(r)\n",
    "        if result < r:\n",
    "            result = r\n",
    "        return\n",
    "    else:\n",
    "        for i in range(2):\n",
    "            count = c\n",
    "            temp = r\n",
    "            if i == 0 and count < 2:\n",
    "                count += 1\n",
    "                temp += arr[x]\n",
    "                max_drink(x+1, temp, count)\n",
    "            elif i == 1:\n",
    "                count = 0\n",
    "                max_drink(x+1, temp, count)\n",
    "        \n",
    "            \n",
    "max_drink(0, 0, 0)\n",
    "print(result)"
   ]
  },
  {
   "cell_type": "code",
   "execution_count": null,
   "metadata": {},
   "outputs": [],
   "source": []
  }
 ],
 "metadata": {
  "kernelspec": {
   "display_name": "Python 3",
   "language": "python",
   "name": "python3"
  },
  "language_info": {
   "codemirror_mode": {
    "name": "ipython",
    "version": 3
   },
   "file_extension": ".py",
   "mimetype": "text/x-python",
   "name": "python",
   "nbconvert_exporter": "python",
   "pygments_lexer": "ipython3",
   "version": "3.7.4"
  }
 },
 "nbformat": 4,
 "nbformat_minor": 2
}
