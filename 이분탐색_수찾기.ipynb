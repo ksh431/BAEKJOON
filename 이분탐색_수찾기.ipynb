{
 "cells": [
  {
   "cell_type": "code",
   "execution_count": 11,
   "metadata": {},
   "outputs": [
    {
     "name": "stdout",
     "output_type": "stream",
     "text": [
      "5\n",
      "4 1 5 2 3\n",
      "5\n",
      "1 3 7 9 5\n",
      "[1, 2, 3, 4, 5]\n",
      "1\n",
      "1\n",
      "0\n",
      "0\n",
      "1\n"
     ]
    }
   ],
   "source": [
    "N = int(input())\n",
    "n_arr = list(map(int, input().split()))\n",
    "M = int(input())\n",
    "m_arr = list(map(int, input().split()))\n",
    "\n",
    "print(n_arr)\n",
    "result = 0\n",
    "\n",
    "def search(a, cut, fix):\n",
    "    global result\n",
    "    if a == 1:\n",
    "        if cut[0] == fix:\n",
    "            result = 1\n",
    "        return\n",
    "    else:\n",
    "        if cut[a//2] > fix:\n",
    "            cut = cut[:a//2]\n",
    "            a = len(cut)\n",
    "            search(a, cut, fix)\n",
    "        elif cut[a//2] == fix:\n",
    "            result = 1\n",
    "            return\n",
    "        else:\n",
    "            cut = cut[a//2:]\n",
    "            a = len(cut)\n",
    "            search(a, cut, fix)\n",
    "\n",
    "\n",
    "for i in m_arr:\n",
    "    search(N, n_arr, i)\n",
    "    print(result)\n",
    "    result = 0"
   ]
  }
 ],
 "metadata": {
  "kernelspec": {
   "display_name": "Python 3",
   "language": "python",
   "name": "python3"
  },
  "language_info": {
   "codemirror_mode": {
    "name": "ipython",
    "version": 3
   },
   "file_extension": ".py",
   "mimetype": "text/x-python",
   "name": "python",
   "nbconvert_exporter": "python",
   "pygments_lexer": "ipython3",
   "version": "3.7.4"
  }
 },
 "nbformat": 4,
 "nbformat_minor": 2
}
