{
 "cells": [
  {
   "cell_type": "code",
   "execution_count": 2,
   "metadata": {},
   "outputs": [
    {
     "name": "stdout",
     "output_type": "stream",
     "text": [
      "1번째 자연수를 입력하시오 : 123\n",
      "2번째 자연수를 입력하시오 : 321\n",
      "3번째 자연수를 입력하시오 : 469\n",
      "4번째 자연수를 입력하시오 : 654\n",
      "5번째 자연수를 입력하시오 : 987\n",
      "6번째 자연수를 입력하시오 : 358\n",
      "7번째 자연수를 입력하시오 : 649\n",
      "8번째 자연수를 입력하시오 : 621\n",
      "9번째 자연수를 입력하시오 : 843\n",
      "987\n",
      "5\n"
     ]
    },
    {
     "data": {
      "text/plain": [
       "0"
      ]
     },
     "execution_count": 2,
     "metadata": {},
     "output_type": "execute_result"
    }
   ],
   "source": [
    "def maxidx():\n",
    "    arr = []\n",
    "    max = 0\n",
    "    idx = 0\n",
    "    for i in range(9):\n",
    "        arr.append(int(input('%d번째 자연수를 입력하시오 : '%(i+1))))\n",
    "        if arr[i] > max:\n",
    "            max = arr[i]\n",
    "            idx = i\n",
    "    print(max)\n",
    "    print(idx+1)\n",
    "    return 0\n",
    "\n",
    "maxidx()"
   ]
  }
 ],
 "metadata": {
  "kernelspec": {
   "display_name": "Python 3",
   "language": "python",
   "name": "python3"
  },
  "language_info": {
   "codemirror_mode": {
    "name": "ipython",
    "version": 3
   },
   "file_extension": ".py",
   "mimetype": "text/x-python",
   "name": "python",
   "nbconvert_exporter": "python",
   "pygments_lexer": "ipython3",
   "version": "3.7.4"
  }
 },
 "nbformat": 4,
 "nbformat_minor": 2
}
