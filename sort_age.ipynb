{
 "cells": [
  {
   "cell_type": "code",
   "execution_count": 12,
   "metadata": {},
   "outputs": [
    {
     "name": "stdout",
     "output_type": "stream",
     "text": [
      "회원 수 : 3\n",
      "21 Junkyu\n",
      "21 Dohyun\n",
      "20 Sunyoung\n",
      "20 Sunyoung\n",
      "21 Junkyu\n",
      "21 Dohyun\n"
     ]
    },
    {
     "data": {
      "text/plain": [
       "0"
      ]
     },
     "execution_count": 12,
     "metadata": {},
     "output_type": "execute_result"
    }
   ],
   "source": [
    "def sort_age():\n",
    "    N = int(input('회원 수 : '))\n",
    "    lst = []\n",
    "    for i in range(N):\n",
    "        lst.append(list(input().split()))\n",
    "    for i in range(N):\n",
    "        lst[i].append(i)\n",
    "    lst.sort()\n",
    "    for i in range(N):\n",
    "        for j in range(N):\n",
    "            temp = 0\n",
    "            if lst[i][0] == lst[j][0] and lst[i][2] < lst[j][2]:\n",
    "                temp = lst[i]\n",
    "                lst[i] = lst[j]\n",
    "                lst[j] = temp\n",
    "    for i, j, k in lst:\n",
    "        print('%d %s'%(int(i), j))\n",
    "    return 0\n",
    "\n",
    "sort_age()"
   ]
  },
  {
   "cell_type": "code",
   "execution_count": null,
   "metadata": {},
   "outputs": [],
   "source": []
  }
 ],
 "metadata": {
  "kernelspec": {
   "display_name": "Python 3",
   "language": "python",
   "name": "python3"
  },
  "language_info": {
   "codemirror_mode": {
    "name": "ipython",
    "version": 3
   },
   "file_extension": ".py",
   "mimetype": "text/x-python",
   "name": "python",
   "nbconvert_exporter": "python",
   "pygments_lexer": "ipython3",
   "version": "3.7.4"
  }
 },
 "nbformat": 4,
 "nbformat_minor": 2
}
