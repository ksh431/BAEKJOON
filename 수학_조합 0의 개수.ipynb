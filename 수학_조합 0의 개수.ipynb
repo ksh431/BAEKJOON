{
 "cells": [
  {
   "cell_type": "code",
   "execution_count": 15,
   "metadata": {},
   "outputs": [
    {
     "name": "stdout",
     "output_type": "stream",
     "text": [
      "25 12\n",
      "2\n"
     ]
    }
   ],
   "source": [
    "n, m = map(int, input().split())\n",
    "\n",
    "def fac(a):\n",
    "    if a == 0 or a == 1:\n",
    "        return 1\n",
    "    else:\n",
    "        return fac(a-1)*a\n",
    "\n",
    "def con(a, b):\n",
    "    global n\n",
    "    if a == n-b+1:\n",
    "        return a\n",
    "    else:\n",
    "        return con(a-1, b)*a\n",
    "\n",
    "num = con(n, m)//fac(m)\n",
    "z = 0\n",
    "while True:\n",
    "    if num%10 == 0:\n",
    "        z += 1\n",
    "        num = num//10\n",
    "    else:\n",
    "        break\n",
    "print(z)    "
   ]
  }
 ],
 "metadata": {
  "kernelspec": {
   "display_name": "Python 3",
   "language": "python",
   "name": "python3"
  },
  "language_info": {
   "codemirror_mode": {
    "name": "ipython",
    "version": 3
   },
   "file_extension": ".py",
   "mimetype": "text/x-python",
   "name": "python",
   "nbconvert_exporter": "python",
   "pygments_lexer": "ipython3",
   "version": "3.7.4"
  }
 },
 "nbformat": 4,
 "nbformat_minor": 2
}
