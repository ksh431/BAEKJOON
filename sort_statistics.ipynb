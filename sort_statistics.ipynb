{
 "cells": [
  {
   "cell_type": "code",
   "execution_count": 2,
   "metadata": {},
   "outputs": [
    {
     "name": "stdout",
     "output_type": "stream",
     "text": [
      "N수 : 5\n",
      "1\n",
      "3\n",
      "8\n",
      "-2\n",
      "2\n",
      "2\n",
      "2\n",
      "1\n",
      "10\n"
     ]
    },
    {
     "data": {
      "text/plain": [
       "0"
      ]
     },
     "execution_count": 2,
     "metadata": {},
     "output_type": "execute_result"
    }
   ],
   "source": [
    "import sys\n",
    "from collections import Counter\n",
    "\n",
    "def statistics():\n",
    "    N = int(input('N수 : '))\n",
    "    lst = []\n",
    "    result = []\n",
    "    for i in range(N):\n",
    "        lst.append(int(input()))\n",
    "    for i in range(len(lst)):\n",
    "        temp = 0\n",
    "        for j in range(len(lst)):\n",
    "            if lst[i] < lst[j]:\n",
    "                temp = lst[i]\n",
    "                lst[i] = lst[j]\n",
    "                lst[j] = temp\n",
    "    mean(lst)\n",
    "    median(lst)\n",
    "    mode(lst)\n",
    "    s_range(lst)\n",
    "    \n",
    "    return 0\n",
    "\n",
    "def mean(lst):\n",
    "    result = 0\n",
    "    for i in lst:\n",
    "        result += i\n",
    "    print(int(result/len(lst)))\n",
    "    return 0\n",
    "def median(lst):\n",
    "    m_lst = lst\n",
    "    med = 0\n",
    "    if len(lst)%2 == 0:\n",
    "        med = (lst[int(len(lst)/2) - 1] + lst[int(len(lst)/2)])/2\n",
    "    else:\n",
    "        med = lst[int(len(lst)/2)]\n",
    "    print(med)\n",
    "    return 0\n",
    "def mode(lst):\n",
    "    cnt = Counter(lst) \n",
    "    cnt = sorted(cnt.items(), key=lambda x: (-x[1],x[0]))\n",
    "    if cnt[0][1] == cnt[1][1]:\n",
    "        print(cnt[1][0])\n",
    "    else :\n",
    "        print(cnt[0][0])\n",
    "    return 0\n",
    "    \n",
    "def s_range(lst):\n",
    "    print(lst[-1]-lst[0])\n",
    "    return 0\n",
    "\n",
    "statistics()"
   ]
  },
  {
   "cell_type": "code",
   "execution_count": null,
   "metadata": {},
   "outputs": [],
   "source": []
  }
 ],
 "metadata": {
  "kernelspec": {
   "display_name": "Python 3",
   "language": "python",
   "name": "python3"
  },
  "language_info": {
   "codemirror_mode": {
    "name": "ipython",
    "version": 3
   },
   "file_extension": ".py",
   "mimetype": "text/x-python",
   "name": "python",
   "nbconvert_exporter": "python",
   "pygments_lexer": "ipython3",
   "version": "3.7.4"
  }
 },
 "nbformat": 4,
 "nbformat_minor": 2
}
