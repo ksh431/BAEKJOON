{
 "cells": [
  {
   "cell_type": "code",
   "execution_count": 5,
   "metadata": {},
   "outputs": [
    {
     "name": "stdout",
     "output_type": "stream",
     "text": [
      "So when I die (the [first] I will see in (heaven) is a score list).\n",
      "yes\n",
      "[ first in ] ( first out ).\n",
      "yes\n",
      "Half Moon tonight (At least it is better than no Moon at all].\n",
      "no\n",
      "A rope may form )( a trail in a maze.\n",
      "no\n",
      "Help( I[m being held prisoner in a fortune cookie factory)].\n",
      "yes\n",
      "([ (([( [ ] ) ( ) (( ))] )) ]).\n",
      "yes\n",
      " .\n",
      "yes\n",
      ".\n"
     ]
    }
   ],
   "source": [
    "while True:\n",
    "    k = input()\n",
    "    s_p = 0\n",
    "    l_p = 0\n",
    "    result = 'no'\n",
    "    if len(k) == 1:\n",
    "        break\n",
    "    for i in k:\n",
    "        if s_p < 0 or l_p <0:\n",
    "            break\n",
    "        else:\n",
    "            if i == '(':\n",
    "                s_p += 1\n",
    "            elif i == '[':\n",
    "                l_p += 1\n",
    "            elif i == ')':\n",
    "                s_p -= 1\n",
    "            elif i == ']':\n",
    "                l_p -= 1\n",
    "    if s_p == 0 and l_p == 0:\n",
    "        result = 'yes'\n",
    "    print(result)\n",
    "        "
   ]
  }
 ],
 "metadata": {
  "kernelspec": {
   "display_name": "Python 3",
   "language": "python",
   "name": "python3"
  },
  "language_info": {
   "codemirror_mode": {
    "name": "ipython",
    "version": 3
   },
   "file_extension": ".py",
   "mimetype": "text/x-python",
   "name": "python",
   "nbconvert_exporter": "python",
   "pygments_lexer": "ipython3",
   "version": "3.7.4"
  }
 },
 "nbformat": 4,
 "nbformat_minor": 2
}
