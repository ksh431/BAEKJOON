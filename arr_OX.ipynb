{
 "cells": [
  {
   "cell_type": "code",
   "execution_count": 1,
   "metadata": {},
   "outputs": [
    {
     "name": "stdout",
     "output_type": "stream",
     "text": [
      "테스트 케이스 갯수를 입력하시오 : 5\n",
      "O와 X로 이루어진 테스트 케이스를 입력하시오OOXXOXXOOO\n",
      "O와 X로 이루어진 테스트 케이스를 입력하시오OOXXOOXXOO\n",
      "O와 X로 이루어진 테스트 케이스를 입력하시오OXOXOXOXOXOXOX\n",
      "O와 X로 이루어진 테스트 케이스를 입력하시오OOOOOOOOOO\n",
      "O와 X로 이루어진 테스트 케이스를 입력하시오OOOOXOOOOXOOOOX\n",
      "10\n",
      "9\n",
      "7\n",
      "55\n",
      "30\n"
     ]
    },
    {
     "data": {
      "text/plain": [
       "0"
      ]
     },
     "execution_count": 1,
     "metadata": {},
     "output_type": "execute_result"
    }
   ],
   "source": [
    "def ox_score():\n",
    "    case_num = int(input('테스트 케이스 갯수를 입력하시오 : '))\n",
    "    case_lst = []\n",
    "    for i in range(case_num):\n",
    "        case_lst.append(input('O와 X로 이루어진 테스트 케이스를 입력하시오'))\n",
    "    for i in range(case_num):\n",
    "        total_score = 0\n",
    "        temp = 0\n",
    "        for j in range(len(case_lst[i])):\n",
    "            if case_lst[i][j] == 'O':\n",
    "                temp += 1\n",
    "                total_score += temp\n",
    "            else:\n",
    "                temp = 0\n",
    "        print(total_score)\n",
    "    return 0\n",
    "\n",
    "ox_score()\n",
    "                "
   ]
  },
  {
   "cell_type": "code",
   "execution_count": null,
   "metadata": {},
   "outputs": [],
   "source": []
  },
  {
   "cell_type": "code",
   "execution_count": null,
   "metadata": {},
   "outputs": [],
   "source": []
  }
 ],
 "metadata": {
  "kernelspec": {
   "display_name": "Python 3",
   "language": "python",
   "name": "python3"
  },
  "language_info": {
   "codemirror_mode": {
    "name": "ipython",
    "version": 3
   },
   "file_extension": ".py",
   "mimetype": "text/x-python",
   "name": "python",
   "nbconvert_exporter": "python",
   "pygments_lexer": "ipython3",
   "version": "3.7.4"
  }
 },
 "nbformat": 4,
 "nbformat_minor": 2
}
